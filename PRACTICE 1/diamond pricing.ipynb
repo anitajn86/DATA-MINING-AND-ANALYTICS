{
 "cells": [
  {
   "cell_type": "code",
   "execution_count": 1,
   "metadata": {},
   "outputs": [],
   "source": [
    "import pandas as pd\n",
    "import matplotlib.pyplot as plt\n",
    "import seaborn as sb"
   ]
  },
  {
   "cell_type": "markdown",
   "metadata": {},
   "source": [
    "Doing EDA\n",
    "Check for missing values in categorical and continuous data and remove with appropriatew method.\n",
    "Check and handle outliers with appropriate methods\n",
    "Do univarite, bivariate and multivariate analyses"
   ]
  },
  {
   "cell_type": "code",
   "execution_count": 2,
   "metadata": {},
   "outputs": [
    {
     "data": {
      "text/html": [
       "<div>\n",
       "<style scoped>\n",
       "    .dataframe tbody tr th:only-of-type {\n",
       "        vertical-align: middle;\n",
       "    }\n",
       "\n",
       "    .dataframe tbody tr th {\n",
       "        vertical-align: top;\n",
       "    }\n",
       "\n",
       "    .dataframe thead th {\n",
       "        text-align: right;\n",
       "    }\n",
       "</style>\n",
       "<table border=\"1\" class=\"dataframe\">\n",
       "  <thead>\n",
       "    <tr style=\"text-align: right;\">\n",
       "      <th></th>\n",
       "      <th>ID</th>\n",
       "      <th>carat</th>\n",
       "      <th>cut</th>\n",
       "      <th>colour</th>\n",
       "      <th>clarity</th>\n",
       "      <th>depth</th>\n",
       "      <th>price</th>\n",
       "      <th>x</th>\n",
       "      <th>y</th>\n",
       "      <th>P</th>\n",
       "      <th>PC</th>\n",
       "    </tr>\n",
       "  </thead>\n",
       "  <tbody>\n",
       "    <tr>\n",
       "      <th>0</th>\n",
       "      <td>1</td>\n",
       "      <td>0.23</td>\n",
       "      <td>Ideal</td>\n",
       "      <td>E</td>\n",
       "      <td>SI2</td>\n",
       "      <td>61.5</td>\n",
       "      <td>326</td>\n",
       "      <td>1417.391304</td>\n",
       "      <td>5.300813</td>\n",
       "      <td>Negative</td>\n",
       "      <td>Negative</td>\n",
       "    </tr>\n",
       "    <tr>\n",
       "      <th>1</th>\n",
       "      <td>2</td>\n",
       "      <td>0.21</td>\n",
       "      <td>Premium</td>\n",
       "      <td>E</td>\n",
       "      <td>SI1</td>\n",
       "      <td>59.8</td>\n",
       "      <td>326</td>\n",
       "      <td>1552.380952</td>\n",
       "      <td>5.451505</td>\n",
       "      <td>Positive</td>\n",
       "      <td>Negative</td>\n",
       "    </tr>\n",
       "    <tr>\n",
       "      <th>2</th>\n",
       "      <td>3</td>\n",
       "      <td>0.23</td>\n",
       "      <td>Good</td>\n",
       "      <td>E</td>\n",
       "      <td>VS1</td>\n",
       "      <td>56.9</td>\n",
       "      <td>327</td>\n",
       "      <td>1421.739130</td>\n",
       "      <td>5.746924</td>\n",
       "      <td>Positve</td>\n",
       "      <td>Negative</td>\n",
       "    </tr>\n",
       "    <tr>\n",
       "      <th>3</th>\n",
       "      <td>4</td>\n",
       "      <td>0.29</td>\n",
       "      <td>Premium</td>\n",
       "      <td>I</td>\n",
       "      <td>VS2</td>\n",
       "      <td>62.4</td>\n",
       "      <td>334</td>\n",
       "      <td>1151.724138</td>\n",
       "      <td>5.352564</td>\n",
       "      <td>NR</td>\n",
       "      <td>Negative</td>\n",
       "    </tr>\n",
       "    <tr>\n",
       "      <th>4</th>\n",
       "      <td>5</td>\n",
       "      <td>0.31</td>\n",
       "      <td>Good</td>\n",
       "      <td>J</td>\n",
       "      <td>SI2</td>\n",
       "      <td>63.3</td>\n",
       "      <td>335</td>\n",
       "      <td>1080.645161</td>\n",
       "      <td>5.292259</td>\n",
       "      <td>NR</td>\n",
       "      <td>Negative</td>\n",
       "    </tr>\n",
       "  </tbody>\n",
       "</table>\n",
       "</div>"
      ],
      "text/plain": [
       "   ID  carat      cut colour clarity  depth  price            x         y  \\\n",
       "0   1   0.23    Ideal      E     SI2   61.5    326  1417.391304  5.300813   \n",
       "1   2   0.21  Premium      E     SI1   59.8    326  1552.380952  5.451505   \n",
       "2   3   0.23     Good      E     VS1   56.9    327  1421.739130  5.746924   \n",
       "3   4   0.29  Premium      I     VS2   62.4    334  1151.724138  5.352564   \n",
       "4   5   0.31     Good      J     SI2   63.3    335  1080.645161  5.292259   \n",
       "\n",
       "          P        PC  \n",
       "0  Negative  Negative  \n",
       "1  Positive  Negative  \n",
       "2   Positve  Negative  \n",
       "3        NR  Negative  \n",
       "4        NR  Negative  "
      ]
     },
     "execution_count": 2,
     "metadata": {},
     "output_type": "execute_result"
    }
   ],
   "source": [
    "diamonddata=pd.read_csv('pricingOfDiamonds.csv')\n",
    "diamonddata.head(5)"
   ]
  },
  {
   "cell_type": "code",
   "execution_count": 3,
   "metadata": {},
   "outputs": [
    {
     "data": {
      "text/plain": [
       "<bound method DataFrame.info of           ID  carat        cut colour clarity  depth  price            x  \\\n",
       "0          1   0.23      Ideal      E     SI2   61.5    326  1417.391304   \n",
       "1          2   0.21    Premium      E     SI1   59.8    326  1552.380952   \n",
       "2          3   0.23       Good      E     VS1   56.9    327  1421.739130   \n",
       "3          4   0.29    Premium      I     VS2   62.4    334  1151.724138   \n",
       "4          5   0.31       Good      J     SI2   63.3    335  1080.645161   \n",
       "...      ...    ...        ...    ...     ...    ...    ...          ...   \n",
       "53935  53936   0.72      Ideal      D     SI1   60.8   2757  3829.166667   \n",
       "53936  53937   0.72       Good      D     SI1   63.1   2757  3829.166667   \n",
       "53937  53938   0.70  Very Good      D     SI1   62.8   2757  3938.571429   \n",
       "53938  53939   0.86    Premium      H     SI2   61.0   2757  3205.813953   \n",
       "53939  53940   0.75      Ideal      D     SI2   62.2   2757  3676.000000   \n",
       "\n",
       "               y         P        PC  \n",
       "0       5.300813  Negative  Negative  \n",
       "1       5.451505  Positive  Negative  \n",
       "2       5.746924   Positve  Negative  \n",
       "3       5.352564        NR  Negative  \n",
       "4       5.292259        NR  Negative  \n",
       "...          ...       ...       ...  \n",
       "53935  45.345395        NR        SN  \n",
       "53936  43.692552        SP        SN  \n",
       "53937  43.901274        SN        SN  \n",
       "53938  45.196721        SN        SP  \n",
       "53939  44.324759  Negative        SP  \n",
       "\n",
       "[53940 rows x 11 columns]>"
      ]
     },
     "execution_count": 3,
     "metadata": {},
     "output_type": "execute_result"
    }
   ],
   "source": [
    "diamonddata.info"
   ]
  },
  {
   "cell_type": "code",
   "execution_count": 4,
   "metadata": {},
   "outputs": [
    {
     "data": {
      "text/plain": [
       "ID           int64\n",
       "carat      float64\n",
       "cut         object\n",
       "colour      object\n",
       "clarity     object\n",
       "depth      float64\n",
       "price        int64\n",
       "x          float64\n",
       "y          float64\n",
       "P           object\n",
       "PC          object\n",
       "dtype: object"
      ]
     },
     "execution_count": 4,
     "metadata": {},
     "output_type": "execute_result"
    }
   ],
   "source": [
    "diamonddata.dtypes"
   ]
  },
  {
   "cell_type": "code",
   "execution_count": 5,
   "metadata": {},
   "outputs": [
    {
     "data": {
      "text/plain": [
       "ID          0\n",
       "carat       0\n",
       "cut         0\n",
       "colour      0\n",
       "clarity     0\n",
       "depth       0\n",
       "price       0\n",
       "x           0\n",
       "y           0\n",
       "P          10\n",
       "PC         10\n",
       "dtype: int64"
      ]
     },
     "execution_count": 5,
     "metadata": {},
     "output_type": "execute_result"
    }
   ],
   "source": [
    "#checking for missing values\n",
    "diamonddata.isna().sum()"
   ]
  },
  {
   "cell_type": "code",
   "execution_count": 8,
   "metadata": {},
   "outputs": [
    {
     "data": {
      "text/html": [
       "<div>\n",
       "<style scoped>\n",
       "    .dataframe tbody tr th:only-of-type {\n",
       "        vertical-align: middle;\n",
       "    }\n",
       "\n",
       "    .dataframe tbody tr th {\n",
       "        vertical-align: top;\n",
       "    }\n",
       "\n",
       "    .dataframe thead th {\n",
       "        text-align: right;\n",
       "    }\n",
       "</style>\n",
       "<table border=\"1\" class=\"dataframe\">\n",
       "  <thead>\n",
       "    <tr style=\"text-align: right;\">\n",
       "      <th></th>\n",
       "      <th>ID</th>\n",
       "      <th>carat</th>\n",
       "      <th>depth</th>\n",
       "      <th>price</th>\n",
       "      <th>x</th>\n",
       "      <th>y</th>\n",
       "    </tr>\n",
       "  </thead>\n",
       "  <tbody>\n",
       "    <tr>\n",
       "      <th>0</th>\n",
       "      <td>1</td>\n",
       "      <td>0.23</td>\n",
       "      <td>61.5</td>\n",
       "      <td>326</td>\n",
       "      <td>1417.391304</td>\n",
       "      <td>5.300813</td>\n",
       "    </tr>\n",
       "    <tr>\n",
       "      <th>1</th>\n",
       "      <td>2</td>\n",
       "      <td>0.21</td>\n",
       "      <td>59.8</td>\n",
       "      <td>326</td>\n",
       "      <td>1552.380952</td>\n",
       "      <td>5.451505</td>\n",
       "    </tr>\n",
       "    <tr>\n",
       "      <th>2</th>\n",
       "      <td>3</td>\n",
       "      <td>0.23</td>\n",
       "      <td>56.9</td>\n",
       "      <td>327</td>\n",
       "      <td>1421.739130</td>\n",
       "      <td>5.746924</td>\n",
       "    </tr>\n",
       "    <tr>\n",
       "      <th>3</th>\n",
       "      <td>4</td>\n",
       "      <td>0.29</td>\n",
       "      <td>62.4</td>\n",
       "      <td>334</td>\n",
       "      <td>1151.724138</td>\n",
       "      <td>5.352564</td>\n",
       "    </tr>\n",
       "    <tr>\n",
       "      <th>4</th>\n",
       "      <td>5</td>\n",
       "      <td>0.31</td>\n",
       "      <td>63.3</td>\n",
       "      <td>335</td>\n",
       "      <td>1080.645161</td>\n",
       "      <td>5.292259</td>\n",
       "    </tr>\n",
       "    <tr>\n",
       "      <th>...</th>\n",
       "      <td>...</td>\n",
       "      <td>...</td>\n",
       "      <td>...</td>\n",
       "      <td>...</td>\n",
       "      <td>...</td>\n",
       "      <td>...</td>\n",
       "    </tr>\n",
       "    <tr>\n",
       "      <th>53935</th>\n",
       "      <td>53936</td>\n",
       "      <td>0.72</td>\n",
       "      <td>60.8</td>\n",
       "      <td>2757</td>\n",
       "      <td>3829.166667</td>\n",
       "      <td>45.345395</td>\n",
       "    </tr>\n",
       "    <tr>\n",
       "      <th>53936</th>\n",
       "      <td>53937</td>\n",
       "      <td>0.72</td>\n",
       "      <td>63.1</td>\n",
       "      <td>2757</td>\n",
       "      <td>3829.166667</td>\n",
       "      <td>43.692552</td>\n",
       "    </tr>\n",
       "    <tr>\n",
       "      <th>53937</th>\n",
       "      <td>53938</td>\n",
       "      <td>0.70</td>\n",
       "      <td>62.8</td>\n",
       "      <td>2757</td>\n",
       "      <td>3938.571429</td>\n",
       "      <td>43.901274</td>\n",
       "    </tr>\n",
       "    <tr>\n",
       "      <th>53938</th>\n",
       "      <td>53939</td>\n",
       "      <td>0.86</td>\n",
       "      <td>61.0</td>\n",
       "      <td>2757</td>\n",
       "      <td>3205.813953</td>\n",
       "      <td>45.196721</td>\n",
       "    </tr>\n",
       "    <tr>\n",
       "      <th>53939</th>\n",
       "      <td>53940</td>\n",
       "      <td>0.75</td>\n",
       "      <td>62.2</td>\n",
       "      <td>2757</td>\n",
       "      <td>3676.000000</td>\n",
       "      <td>44.324759</td>\n",
       "    </tr>\n",
       "  </tbody>\n",
       "</table>\n",
       "<p>53940 rows × 6 columns</p>\n",
       "</div>"
      ],
      "text/plain": [
       "          ID  carat  depth  price            x          y\n",
       "0          1   0.23   61.5    326  1417.391304   5.300813\n",
       "1          2   0.21   59.8    326  1552.380952   5.451505\n",
       "2          3   0.23   56.9    327  1421.739130   5.746924\n",
       "3          4   0.29   62.4    334  1151.724138   5.352564\n",
       "4          5   0.31   63.3    335  1080.645161   5.292259\n",
       "...      ...    ...    ...    ...          ...        ...\n",
       "53935  53936   0.72   60.8   2757  3829.166667  45.345395\n",
       "53936  53937   0.72   63.1   2757  3829.166667  43.692552\n",
       "53937  53938   0.70   62.8   2757  3938.571429  43.901274\n",
       "53938  53939   0.86   61.0   2757  3205.813953  45.196721\n",
       "53939  53940   0.75   62.2   2757  3676.000000  44.324759\n",
       "\n",
       "[53940 rows x 6 columns]"
      ]
     },
     "execution_count": 8,
     "metadata": {},
     "output_type": "execute_result"
    }
   ],
   "source": [
    "#separating continuos from categorical\n",
    "contdiamonds=diamonddata.select_dtypes(include=['int64','float64'])\n",
    "contdiamonds"
   ]
  },
  {
   "cell_type": "code",
   "execution_count": 9,
   "metadata": {},
   "outputs": [
    {
     "data": {
      "text/html": [
       "<div>\n",
       "<style scoped>\n",
       "    .dataframe tbody tr th:only-of-type {\n",
       "        vertical-align: middle;\n",
       "    }\n",
       "\n",
       "    .dataframe tbody tr th {\n",
       "        vertical-align: top;\n",
       "    }\n",
       "\n",
       "    .dataframe thead th {\n",
       "        text-align: right;\n",
       "    }\n",
       "</style>\n",
       "<table border=\"1\" class=\"dataframe\">\n",
       "  <thead>\n",
       "    <tr style=\"text-align: right;\">\n",
       "      <th></th>\n",
       "      <th>cut</th>\n",
       "      <th>colour</th>\n",
       "      <th>clarity</th>\n",
       "      <th>P</th>\n",
       "      <th>PC</th>\n",
       "    </tr>\n",
       "  </thead>\n",
       "  <tbody>\n",
       "    <tr>\n",
       "      <th>0</th>\n",
       "      <td>Ideal</td>\n",
       "      <td>E</td>\n",
       "      <td>SI2</td>\n",
       "      <td>Negative</td>\n",
       "      <td>Negative</td>\n",
       "    </tr>\n",
       "    <tr>\n",
       "      <th>1</th>\n",
       "      <td>Premium</td>\n",
       "      <td>E</td>\n",
       "      <td>SI1</td>\n",
       "      <td>Positive</td>\n",
       "      <td>Negative</td>\n",
       "    </tr>\n",
       "    <tr>\n",
       "      <th>2</th>\n",
       "      <td>Good</td>\n",
       "      <td>E</td>\n",
       "      <td>VS1</td>\n",
       "      <td>Positve</td>\n",
       "      <td>Negative</td>\n",
       "    </tr>\n",
       "    <tr>\n",
       "      <th>3</th>\n",
       "      <td>Premium</td>\n",
       "      <td>I</td>\n",
       "      <td>VS2</td>\n",
       "      <td>NR</td>\n",
       "      <td>Negative</td>\n",
       "    </tr>\n",
       "    <tr>\n",
       "      <th>4</th>\n",
       "      <td>Good</td>\n",
       "      <td>J</td>\n",
       "      <td>SI2</td>\n",
       "      <td>NR</td>\n",
       "      <td>Negative</td>\n",
       "    </tr>\n",
       "    <tr>\n",
       "      <th>...</th>\n",
       "      <td>...</td>\n",
       "      <td>...</td>\n",
       "      <td>...</td>\n",
       "      <td>...</td>\n",
       "      <td>...</td>\n",
       "    </tr>\n",
       "    <tr>\n",
       "      <th>53935</th>\n",
       "      <td>Ideal</td>\n",
       "      <td>D</td>\n",
       "      <td>SI1</td>\n",
       "      <td>NR</td>\n",
       "      <td>SN</td>\n",
       "    </tr>\n",
       "    <tr>\n",
       "      <th>53936</th>\n",
       "      <td>Good</td>\n",
       "      <td>D</td>\n",
       "      <td>SI1</td>\n",
       "      <td>SP</td>\n",
       "      <td>SN</td>\n",
       "    </tr>\n",
       "    <tr>\n",
       "      <th>53937</th>\n",
       "      <td>Very Good</td>\n",
       "      <td>D</td>\n",
       "      <td>SI1</td>\n",
       "      <td>SN</td>\n",
       "      <td>SN</td>\n",
       "    </tr>\n",
       "    <tr>\n",
       "      <th>53938</th>\n",
       "      <td>Premium</td>\n",
       "      <td>H</td>\n",
       "      <td>SI2</td>\n",
       "      <td>SN</td>\n",
       "      <td>SP</td>\n",
       "    </tr>\n",
       "    <tr>\n",
       "      <th>53939</th>\n",
       "      <td>Ideal</td>\n",
       "      <td>D</td>\n",
       "      <td>SI2</td>\n",
       "      <td>Negative</td>\n",
       "      <td>SP</td>\n",
       "    </tr>\n",
       "  </tbody>\n",
       "</table>\n",
       "<p>53940 rows × 5 columns</p>\n",
       "</div>"
      ],
      "text/plain": [
       "             cut colour clarity         P        PC\n",
       "0          Ideal      E     SI2  Negative  Negative\n",
       "1        Premium      E     SI1  Positive  Negative\n",
       "2           Good      E     VS1   Positve  Negative\n",
       "3        Premium      I     VS2        NR  Negative\n",
       "4           Good      J     SI2        NR  Negative\n",
       "...          ...    ...     ...       ...       ...\n",
       "53935      Ideal      D     SI1        NR        SN\n",
       "53936       Good      D     SI1        SP        SN\n",
       "53937  Very Good      D     SI1        SN        SN\n",
       "53938    Premium      H     SI2        SN        SP\n",
       "53939      Ideal      D     SI2  Negative        SP\n",
       "\n",
       "[53940 rows x 5 columns]"
      ]
     },
     "execution_count": 9,
     "metadata": {},
     "output_type": "execute_result"
    }
   ],
   "source": [
    "catdiamonds=diamonddata.select_dtypes(include=['object'])\n",
    "catdiamonds"
   ]
  },
  {
   "cell_type": "code",
   "execution_count": 11,
   "metadata": {},
   "outputs": [
    {
     "data": {
      "text/plain": [
       "ID       0\n",
       "carat    0\n",
       "depth    0\n",
       "price    0\n",
       "x        0\n",
       "y        0\n",
       "dtype: int64"
      ]
     },
     "execution_count": 11,
     "metadata": {},
     "output_type": "execute_result"
    }
   ],
   "source": [
    "contdiamonds.isna().sum()"
   ]
  },
  {
   "cell_type": "code",
   "execution_count": 12,
   "metadata": {},
   "outputs": [
    {
     "data": {
      "text/plain": [
       "cut         0\n",
       "colour      0\n",
       "clarity     0\n",
       "P          10\n",
       "PC         10\n",
       "dtype: int64"
      ]
     },
     "execution_count": 12,
     "metadata": {},
     "output_type": "execute_result"
    }
   ],
   "source": [
    "catdiamonds.isna().sum()"
   ]
  },
  {
   "cell_type": "code",
   "execution_count": null,
   "metadata": {},
   "outputs": [
    {
     "data": {
      "image/png": "[encoded data removed]",
      "text/plain": [
       "<Figure size 1800x500 with 1 Axes>"
      ]
     },
     "metadata": {},
     "output_type": "display_data"
    },
    {
     "data": {
      "image/png": "[encoded data removed]",
      "text/plain": [
       "<Figure size 1800x500 with 1 Axes>"
      ]
     },
     "metadata": {},
     "output_type": "display_data"
    },
    {
     "data": {
      "image/png": "[encoded data removed]",
      "text/plain": [
       "<Figure size 1800x500 with 1 Axes>"
      ]
     },
     "metadata": {},
     "output_type": "display_data"
    },
    {
     "data": {
      "image/png": "[encoded data removed]",
      "text/plain": [
       "<Figure size 1800x500 with 1 Axes>"
      ]
     },
     "metadata": {},
     "output_type": "display_data"
    },
    {
     "data": {
      "image/png": "[encoded data removed]",
      "text/plain": [
       "<Figure size 1800x500 with 1 Axes>"
      ]
     },
     "metadata": {},
     "output_type": "display_data"
    }
   ],
   "source": [
    "#using a bar chart for categorical data\n",
    "#to show how many times each category appears\n",
    "for col in catdiamonds:\n",
    "    plt.figure(figsize=(18,5))\n",
    "    plt.subplot(1,2,1)\n",
    "    sb.countplot(x=catdiamonds[col],palette='coolwarm')\n",
    "    plt.title(f'Bar chart of {col}')\n",
    "    plt.show()\n"
   ]
  },
  {
   "cell_type": "code",
   "execution_count": null,
   "metadata": {},
   "outputs": [],
   "source": [
    "#since PC and P have negative appearing most times,\n",
    "#we are going to use mode to impute for the missing values\n"
   ]
  }
 ],
 "metadata": {
  "kernelspec": {
   "display_name": "base",
   "language": "python",
   "name": "python3"
  },
  "language_info": {
   "codemirror_mode": {
    "name": "ipython",
    "version": 3
   },
   "file_extension": ".py",
   "mimetype": "text/x-python",
   "name": "python",
   "nbconvert_exporter": "python",
   "pygments_lexer": "ipython3",
   "version": "3.11.7"
  }
 },
 "nbformat": 4,
 "nbformat_minor": 2
}
