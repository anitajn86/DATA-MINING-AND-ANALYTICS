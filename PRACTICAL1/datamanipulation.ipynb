{
 "cells": [
  {
   "cell_type": "code",
   "execution_count": 19,
   "metadata": {},
   "outputs": [],
   "source": [
    "import pandas as pd"
   ]
  },
  {
   "cell_type": "code",
   "execution_count": 20,
   "metadata": {},
   "outputs": [
    {
     "data": {
      "text/html": [
       "<div>\n",
       "<style scoped>\n",
       "    .dataframe tbody tr th:only-of-type {\n",
       "        vertical-align: middle;\n",
       "    }\n",
       "\n",
       "    .dataframe tbody tr th {\n",
       "        vertical-align: top;\n",
       "    }\n",
       "\n",
       "    .dataframe thead th {\n",
       "        text-align: right;\n",
       "    }\n",
       "</style>\n",
       "<table border=\"1\" class=\"dataframe\">\n",
       "  <thead>\n",
       "    <tr style=\"text-align: right;\">\n",
       "      <th></th>\n",
       "      <th>ACCESS_NO</th>\n",
       "      <th>GENDER</th>\n",
       "      <th>AGE</th>\n",
       "      <th>COURSE</th>\n",
       "      <th>DSC3108</th>\n",
       "      <th>DSC3114</th>\n",
       "      <th>MTH3108</th>\n",
       "      <th>SYE3104</th>\n",
       "    </tr>\n",
       "  </thead>\n",
       "  <tbody>\n",
       "    <tr>\n",
       "      <th>0</th>\n",
       "      <td>UCU_001</td>\n",
       "      <td>F</td>\n",
       "      <td>21.0</td>\n",
       "      <td>Telecom Engineering</td>\n",
       "      <td>80.0</td>\n",
       "      <td>90.0</td>\n",
       "      <td>89.0</td>\n",
       "      <td>89.0</td>\n",
       "    </tr>\n",
       "    <tr>\n",
       "      <th>1</th>\n",
       "      <td>UCU_002</td>\n",
       "      <td>F</td>\n",
       "      <td>22.0</td>\n",
       "      <td>Telecom Engineering</td>\n",
       "      <td>67.0</td>\n",
       "      <td>79.0</td>\n",
       "      <td>87.0</td>\n",
       "      <td>67.0</td>\n",
       "    </tr>\n",
       "    <tr>\n",
       "      <th>2</th>\n",
       "      <td>UCU_003</td>\n",
       "      <td>M</td>\n",
       "      <td>23.0</td>\n",
       "      <td>Telecom Engineering</td>\n",
       "      <td>68.0</td>\n",
       "      <td>78.0</td>\n",
       "      <td>65.0</td>\n",
       "      <td>45.0</td>\n",
       "    </tr>\n",
       "    <tr>\n",
       "      <th>3</th>\n",
       "      <td>UCU_004</td>\n",
       "      <td>M</td>\n",
       "      <td>22.0</td>\n",
       "      <td>Telecom Engineering</td>\n",
       "      <td>43.0</td>\n",
       "      <td>76.0</td>\n",
       "      <td>90.0</td>\n",
       "      <td>56.0</td>\n",
       "    </tr>\n",
       "    <tr>\n",
       "      <th>4</th>\n",
       "      <td>UCU_005</td>\n",
       "      <td>F</td>\n",
       "      <td>21.0</td>\n",
       "      <td>Data Science</td>\n",
       "      <td>45.0</td>\n",
       "      <td>54.0</td>\n",
       "      <td>87.0</td>\n",
       "      <td>76.0</td>\n",
       "    </tr>\n",
       "  </tbody>\n",
       "</table>\n",
       "</div>"
      ],
      "text/plain": [
       "  ACCESS_NO GENDER   AGE               COURSE  DSC3108  DSC3114  MTH3108  \\\n",
       "0   UCU_001      F  21.0  Telecom Engineering     80.0     90.0     89.0   \n",
       "1   UCU_002      F  22.0  Telecom Engineering     67.0     79.0     87.0   \n",
       "2   UCU_003      M  23.0  Telecom Engineering     68.0     78.0     65.0   \n",
       "3   UCU_004      M  22.0  Telecom Engineering     43.0     76.0     90.0   \n",
       "4   UCU_005      F  21.0         Data Science     45.0     54.0     87.0   \n",
       "\n",
       "   SYE3104  \n",
       "0     89.0  \n",
       "1     67.0  \n",
       "2     45.0  \n",
       "3     56.0  \n",
       "4     76.0  "
      ]
     },
     "execution_count": 20,
     "metadata": {},
     "output_type": "execute_result"
    }
   ],
   "source": [
    "studentdata=pd.read_excel('students.xlsx')\n",
    "studentdata.head()"
   ]
  },
  {
   "cell_type": "markdown",
   "metadata": {},
   "source": [
    "from a different directory\n",
    "# use \\\\ or /"
   ]
  },
  {
   "cell_type": "code",
   "execution_count": 21,
   "metadata": {},
   "outputs": [
    {
     "data": {
      "text/plain": [
       "ACCESS_NO    0\n",
       "GENDER       0\n",
       "AGE          1\n",
       "COURSE       0\n",
       "DSC3108      1\n",
       "DSC3114      4\n",
       "MTH3108      2\n",
       "SYE3104      2\n",
       "dtype: int64"
      ]
     },
     "execution_count": 21,
     "metadata": {},
     "output_type": "execute_result"
    }
   ],
   "source": [
    "#checking for missing values\n",
    "missingvalues=studentdata.isna().sum()\n",
    "missingvalues"
   ]
  },
  {
   "cell_type": "code",
   "execution_count": 22,
   "metadata": {},
   "outputs": [],
   "source": [
    "#using interpolation\n",
    "studentdata['DSC3114']=studentdata['DSC3114'].interpolate(method='linear')"
   ]
  },
  {
   "cell_type": "code",
   "execution_count": 23,
   "metadata": {},
   "outputs": [
    {
     "data": {
      "text/plain": [
       "ACCESS_NO    0\n",
       "GENDER       0\n",
       "AGE          1\n",
       "COURSE       0\n",
       "DSC3108      1\n",
       "DSC3114      0\n",
       "MTH3108      2\n",
       "SYE3104      2\n",
       "dtype: int64"
      ]
     },
     "execution_count": 23,
     "metadata": {},
     "output_type": "execute_result"
    }
   ],
   "source": [
    "#checking for missing values\n",
    "studentdata.isna().sum()\n"
   ]
  },
  {
   "cell_type": "code",
   "execution_count": 25,
   "metadata": {},
   "outputs": [],
   "source": [
    "#using forward fill\n",
    "studentdata['DSC3108']=studentdata['DSC3108'].ffill()"
   ]
  },
  {
   "cell_type": "code",
   "execution_count": 26,
   "metadata": {},
   "outputs": [
    {
     "data": {
      "text/plain": [
       "ACCESS_NO    0\n",
       "GENDER       0\n",
       "AGE          1\n",
       "COURSE       0\n",
       "DSC3108      0\n",
       "DSC3114      0\n",
       "MTH3108      2\n",
       "SYE3104      2\n",
       "dtype: int64"
      ]
     },
     "execution_count": 26,
     "metadata": {},
     "output_type": "execute_result"
    }
   ],
   "source": [
    "studentdata.isna().sum()"
   ]
  },
  {
   "cell_type": "code",
   "execution_count": 27,
   "metadata": {},
   "outputs": [],
   "source": [
    "#using backward fill\n",
    "studentdata['MTH3108']=studentdata['MTH3108'].bfill()"
   ]
  },
  {
   "cell_type": "code",
   "execution_count": null,
   "metadata": {},
   "outputs": [],
   "source": [
    "#using imputation with mode\n"
   ]
  }
 ],
 "metadata": {
  "kernelspec": {
   "display_name": "base",
   "language": "python",
   "name": "python3"
  },
  "language_info": {
   "codemirror_mode": {
    "name": "ipython",
    "version": 3
   },
   "file_extension": ".py",
   "mimetype": "text/x-python",
   "name": "python",
   "nbconvert_exporter": "python",
   "pygments_lexer": "ipython3",
   "version": "3.11.7"
  }
 },
 "nbformat": 4,
 "nbformat_minor": 2
}
