{
 "cells": [
  {
   "cell_type": "code",
   "execution_count": 8,
   "metadata": {},
   "outputs": [],
   "source": [
    "import requests\n",
    "from bs4 import BeautifulSoup\n",
    "import pandas as pd\n",
    "import time"
   ]
  },
  {
   "cell_type": "code",
   "execution_count": 9,
   "metadata": {},
   "outputs": [],
   "source": [
    "movies=['Wish', 'Mufasa: The Lion King', 'Captain America: Brave New World', 'Aladdin (2019)', 'Ant-Man and the Wasp: Quantumania', 'Avatar: The Way of Water', 'Avengers: Endgame', 'Avengers: Infinity War', 'Black Panther', 'Black Panther: Wakanda Forever', 'Black Widow', 'Cruella', 'Coco', 'Christopher Robin', 'Deadpool & Wolverine', 'Doctor Strange in the Multiverse of Madness', 'Elemental', 'Encanto', 'Eternals', 'Dumbo (2019)', 'Frozen 2', 'Guardians of the Galaxy: Volume 3', 'Haunted Mansion', 'Indiana Jones and the Dial of Destiny', 'Jungle Cruise', 'Maleficent: Mistress of Evil', 'Luca', 'Lightyear', \"Marvel Studios' Ant-Man and the Wasp\", 'Mary Poppins Returns', 'Moana 2', 'Onward', 'Ralph Breaks the Internet', 'Raya and the Last Dragon', 'Shang-Chi and the Legend of the Ten Rings', 'Solo: A Star Wars Story', 'Soul', 'Star Wars: The Last Jedi', 'Star Wars: The Rise of Skywalker (Episode IX)', 'Strange World', 'The Lion King (2019)', 'The Little Mermaid (2023)', 'The Marvels', 'The Nutcracker and the Four Realms', 'Thor: Love and Thunder', 'Toy Story 4', 'Turning Red', 'Mulan (2020)', 'Ron’s Gone Wrong', 'Snow White']"
   ]
  },
  {
   "cell_type": "code",
   "execution_count": 13,
   "metadata": {},
   "outputs": [
    {
     "name": "stdout",
     "output_type": "stream",
     "text": [
      "✅ Scraping complete! Data saved to all_disney_movies_box_office.csv\n"
     ]
    }
   ],
   "source": [
    "import requests\n",
    "from bs4 import BeautifulSoup\n",
    "import pandas as pd\n",
    "\n",
    "# URL for Walt Disney Animation Studios movies\n",
    "URL = \"https://www.the-numbers.com/movies/production-company/Walt-Disney-Animation-Studios\"\n",
    "HEADERS = {\"User-Agent\": \"Mozilla/5.0\"}\n",
    "\n",
    "# Fetch and parse the webpage\n",
    "response = requests.get(URL, headers=HEADERS)\n",
    "soup = BeautifulSoup(response.text, \"html.parser\")\n",
    "\n",
    "# Find the box office table\n",
    "table = soup.find(\"table\")\n",
    "rows = table.find_all(\"tr\")[1:]  # Skip the header row\n",
    "\n",
    "# List to store scraped data\n",
    "data = []\n",
    "\n",
    "for row in rows:\n",
    "    columns = row.find_all(\"td\")\n",
    "    \n",
    "    if len(columns) >= 6:  # Ensure enough data columns exist\n",
    "        release_date = columns[0].text.strip()\n",
    "        title = columns[1].text.strip()\n",
    "        budget = columns[2].text.strip()\n",
    "        opening_weekend = columns[3].text.strip()\n",
    "        domestic_gross = columns[4].text.strip()\n",
    "        worldwide_gross = columns[5].text.strip()\n",
    "        \n",
    "        data.append({\n",
    "            \"Release Date\": release_date,\n",
    "            \"Movie\": title,\n",
    "            \"Budget\": budget,\n",
    "            \"Opening Weekend\": opening_weekend,\n",
    "            \"Domestic Gross\": domestic_gross,\n",
    "            \"Worldwide Gross\": worldwide_gross\n",
    "        })\n",
    "\n",
    "# Convert to DataFrame and save as CSV\n",
    "df = pd.DataFrame(data)\n",
    "df.to_csv(\"all_disney_movies_box_office.csv\", index=False)\n",
    "\n",
    "print(\"✅ Scraping complete! Data saved to all_disney_movies_box_office.csv\")\n"
   ]
  }
 ],
 "metadata": {
  "kernelspec": {
   "display_name": "Python 3",
   "language": "python",
   "name": "python3"
  },
  "language_info": {
   "codemirror_mode": {
    "name": "ipython",
    "version": 3
   },
   "file_extension": ".py",
   "mimetype": "text/x-python",
   "name": "python",
   "nbconvert_exporter": "python",
   "pygments_lexer": "ipython3",
   "version": "3.12.2"
  }
 },
 "nbformat": 4,
 "nbformat_minor": 2
}
