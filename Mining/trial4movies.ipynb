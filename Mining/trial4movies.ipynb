{
 "cells": [
  {
   "cell_type": "code",
   "execution_count": 2,
   "metadata": {},
   "outputs": [
    {
     "name": "stdout",
     "output_type": "stream",
     "text": [
      "Movie section not found!\n"
     ]
    }
   ],
   "source": [
    "import requests\n",
    "from bs4 import BeautifulSoup\n",
    "import csv\n",
    "\n",
    "def scrape_movie_info(url):\n",
    "    headers = {\n",
    "        \"User-Agent\": \"Mozilla/5.0 (Windows NT 10.0; Win64; x64) AppleWebKit/537.36 (KHTML, like Gecko) Chrome/120.0.0.0 Safari/537.36\"\n",
    "    }\n",
    "    \n",
    "    response = requests.get(url, headers=headers)\n",
    "    \n",
    "    if response.status_code != 200:\n",
    "        print(\"Failed to fetch page:\", response.status_code)\n",
    "        return None\n",
    "    \n",
    "    soup = BeautifulSoup(response.text, \"html.parser\")\n",
    "\n",
    "    # Find the div that contains the list of movies\n",
    "    movie_div = soup.find(\"div\", {\"class\": \"__next\"})\n",
    "\n",
    "    if not movie_div:\n",
    "        print(\"Movie section not found!\")\n",
    "        return None\n",
    "\n",
    "    # Find all movie items inside the div\n",
    "    movies = movie_div.find_all(\"div\", {\"class\": \"sc-aac612c-3 iUlSSx\"})\n",
    "\n",
    "    movie_data = []\n",
    "\n",
    "    for movie in movies:\n",
    "        title = movie.find(\"h2\", {\"class\": \"title\"}).text.strip()\n",
    "        year = movie.find(\"span\", {\"class\": \"year\"}).text.strip()\n",
    "        rating = movie.find(\"span\", {\"class\": \"rating\"}).text.strip()\n",
    "\n",
    "        movie_data.append([title, year, rating])\n",
    "\n",
    "    # Save to CSV\n",
    "    with open(\"movies.csv\", \"w\", newline=\"\", encoding=\"utf-8\") as file:\n",
    "        writer = csv.writer(file)\n",
    "        writer.writerow([\"Title\", \"Year\", \"Rating\"])  # Column headers\n",
    "        writer.writerows(movie_data)\n",
    "\n",
    "    print(f\"✅ Scraped {len(movie_data)} movies and saved to movies.csv\")\n",
    "\n",
    "# Example usage\n",
    "scrape_movie_info(\"https://www.imdb.com/chart/moviemeter/?ref_=nv_mv_mpm\")\n"
   ]
  }
 ],
 "metadata": {
  "kernelspec": {
   "display_name": "Python 3",
   "language": "python",
   "name": "python3"
  },
  "language_info": {
   "codemirror_mode": {
    "name": "ipython",
    "version": 3
   },
   "file_extension": ".py",
   "mimetype": "text/x-python",
   "name": "python",
   "nbconvert_exporter": "python",
   "pygments_lexer": "ipython3",
   "version": "3.12.2"
  }
 },
 "nbformat": 4,
 "nbformat_minor": 2
}
