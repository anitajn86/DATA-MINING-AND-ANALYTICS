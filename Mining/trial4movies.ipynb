{
 "cells": [
  {
   "cell_type": "code",
   "execution_count": 8,
   "metadata": {},
   "outputs": [],
   "source": [
    "import requests\n",
    "from bs4 import BeautifulSoup\n",
    "import pandas as pd\n",
    "import csv"
   ]
  },
  {
   "cell_type": "code",
   "execution_count": 13,
   "metadata": {},
   "outputs": [
    {
     "name": "stdout",
     "output_type": "stream",
     "text": [
      "Data saved to disney_movie_data.csv\n"
     ]
    }
   ],
   "source": [
    "import requests\n",
    "import csv\n",
    "from bs4 import BeautifulSoup\n",
    "\n",
    "# Your ScraperAPI key (Replace with your actual key)\n",
    "API_KEY = \"7a4419621f83d13d38b016f41da1d1df\"\n",
    "\n",
    "def scrape_disney_movie(movie_url, output_csv=\"disney_movie_data.csv\"):\n",
    "    headers = {\"User-Agent\": \"Mozilla/5.0\"}\n",
    "\n",
    "    # Use ScraperAPI to bypass restrictions\n",
    "    proxied_url = f\"https://api.scraperapi.com/?api_key={API_KEY}&url={movie_url}\"\n",
    "    response = requests.get(proxied_url, headers=headers)\n",
    "    \n",
    "    # Check if request was successful\n",
    "    if response.status_code != 200:\n",
    "        print(f\"Error: Unable to fetch page (Status Code: {response.status_code})\")\n",
    "        return\n",
    "\n",
    "    soup = BeautifulSoup(response.text, \"html.parser\")\n",
    "\n",
    "    # Extract movie details\n",
    "    title = soup.select_one('h1.catalog-title')\n",
    "    title = title.text.strip() if title else \"N/A\"\n",
    "\n",
    "    meta_values = [value.text.strip() for value in soup.find_all('p', class_='meta-value')]\n",
    "    \n",
    "    # Assign values based on expected positions in meta-values\n",
    "    rating = meta_values[0] if len(meta_values) > 0 else \"N/A\"\n",
    "    duration = meta_values[1] if len(meta_values) > 1 else \"N/A\"\n",
    "    release_date = meta_values[2] if len(meta_values) > 2 else \"N/A\"\n",
    "    genre = meta_values[3] if len(meta_values) > 3 else \"N/A\"\n",
    "\n",
    "    synopsis = soup.select_one('p')\n",
    "    synopsis = synopsis.text.strip() if synopsis else \"N/A\"\n",
    "\n",
    "    director = soup.find('strong', string='Director')\n",
    "    director = director.find_next('span').text.strip() if director else \"N/A\"\n",
    "\n",
    "    co_director = soup.find('strong', string='Co-Director')\n",
    "    co_director = co_director.find_next('span').text.strip() if co_director else \"N/A\"\n",
    "\n",
    "    producer = soup.find('strong', string='Producer')\n",
    "    producer = producer.find_next('span').text.strip() if producer else \"N/A\"\n",
    "\n",
    "    # Save to CSV\n",
    "    with open(output_csv, mode=\"w\", newline=\"\", encoding=\"utf-8\") as file:\n",
    "        writer = csv.writer(file)\n",
    "        writer.writerow([\"Title\", \"Rating\", \"Duration\", \"Release Date\", \"Genre\", \"Synopsis\", \"Director\", \"Co-Director\", \"Producer\"])\n",
    "        writer.writerow([title, rating, duration, release_date, genre, synopsis, director, co_director, producer])\n",
    "\n",
    "    print(f\"Data saved to {output_csv}\")\n",
    "\n",
    "# Example usage\n",
    "movie_url = \"https://movies.disney.com/wish\"  # Replace with the actual Disney movie page URL\n",
    "scrape_disney_movie(movie_url)\n"
   ]
  }
 ],
 "metadata": {
  "kernelspec": {
   "display_name": "Python 3",
   "language": "python",
   "name": "python3"
  },
  "language_info": {
   "codemirror_mode": {
    "name": "ipython",
    "version": 3
   },
   "file_extension": ".py",
   "mimetype": "text/x-python",
   "name": "python",
   "nbconvert_exporter": "python",
   "pygments_lexer": "ipython3",
   "version": "3.12.2"
  }
 },
 "nbformat": 4,
 "nbformat_minor": 2
}
