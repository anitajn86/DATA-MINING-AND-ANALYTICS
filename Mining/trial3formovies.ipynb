{
 "cells": [
  {
   "cell_type": "code",
   "execution_count": 10,
   "metadata": {},
   "outputs": [
    {
     "name": "stdout",
     "output_type": "stream",
     "text": [
      "✅ Table scraped and saved as 'scraped_table.csv'!\n"
     ]
    }
   ],
   "source": [
    "import requests\n",
    "from bs4 import BeautifulSoup\n",
    "import pandas as pd\n",
    "\n",
    "# Function to scrape the table\n",
    "def scrape_table(url):\n",
    "    headers = {\n",
    "        \"User-Agent\": \"Mozilla/5.0 (Windows NT 10.0; Win64; x64) AppleWebKit/537.36 (KHTML, like Gecko) Chrome/120.0.0.0 Safari/537.36\"\n",
    "    }\n",
    "\n",
    "    response = requests.get(url, headers=headers)\n",
    "    \n",
    "    if response.status_code != 200:\n",
    "        print(\"Failed to fetch the page. Status code:\", response.status_code)\n",
    "        return None\n",
    "\n",
    "    soup = BeautifulSoup(response.text, \"html.parser\")\n",
    "\n",
    "    # Find the table (Modify this based on the website structure)\n",
    "    #table = soup.find(\"table\", {\"class\": \"a-section imdb-scroll-table mojo-gutter-sides imdb-scroll-table-styles\"})  # Change class to match website\n",
    "    #table = soup.find(\"table\", {\"id\": \"table\"})  # Replace with actual ID\n",
    "    table = soup.find_all(\"table\")[0]  # Gets the first table\n",
    "\n",
    "    if not table:\n",
    "        print(\"Table not found on the page.\")\n",
    "        return None\n",
    "\n",
    "    # Extract table headers\n",
    "    headers = [th.text.strip() for th in table.find_all(\"th\")]\n",
    "\n",
    "    # Extract table rows\n",
    "    rows = []\n",
    "    for tr in table.find_all(\"tr\"):\n",
    "        cells = [td.text.strip() for td in tr.find_all(\"td\")]\n",
    "        if cells:  # Avoid empty rows\n",
    "            rows.append(cells)\n",
    "\n",
    "    # Convert to DataFrame\n",
    "    df = pd.DataFrame(rows, columns=headers)\n",
    "\n",
    "    # Save to CSV\n",
    "    df.to_csv(\"scraped_table.csv\", index=False)\n",
    "    \n",
    "    print(\"✅ Table scraped and saved as 'scraped_table.csv'!\")\n",
    "\n",
    "# Example usage\n",
    "website_url = \"https://www.boxofficemojo.com/chart/top_lifetime_gross/?ref_=bo_cso_ac\"  # Replace with actual URL\n",
    "scrape_table(website_url)\n"
   ]
  }
 ],
 "metadata": {
  "kernelspec": {
   "display_name": "Python 3",
   "language": "python",
   "name": "python3"
  },
  "language_info": {
   "codemirror_mode": {
    "name": "ipython",
    "version": 3
   },
   "file_extension": ".py",
   "mimetype": "text/x-python",
   "name": "python",
   "nbconvert_exporter": "python",
   "pygments_lexer": "ipython3",
   "version": "3.12.2"
  }
 },
 "nbformat": 4,
 "nbformat_minor": 2
}
