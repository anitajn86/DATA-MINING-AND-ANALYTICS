{
 "cells": [
  {
   "cell_type": "code",
   "execution_count": 2,
   "metadata": {},
   "outputs": [
    {
     "name": "stdout",
     "output_type": "stream",
     "text": [
      "✅ Successfully fetched IMDb page.\n",
      "❌ No data collected, check for scraping issues.\n"
     ]
    }
   ],
   "source": [
    "import requests\n",
    "import pandas as pd\n",
    "from bs4 import BeautifulSoup\n",
    "\n",
    "# IMDb Top 250 Movies URL\n",
    "IMDB_URL = \"https://www.imdb.com/chart/top/\"\n",
    "\n",
    "# Headers to mimic a real browser request\n",
    "headers = {\"User-Agent\": \"Mozilla/5.0\"}\n",
    "\n",
    "# Fetch the IMDb page\n",
    "response = requests.get(IMDB_URL, headers=headers)\n",
    "\n",
    "# Ensure the page is successfully loaded\n",
    "if response.status_code == 200:\n",
    "    print(\"✅ Successfully fetched IMDb page.\")\n",
    "else:\n",
    "    print(f\"❌ Error fetching IMDb page, status code: {response.status_code}\")\n",
    "\n",
    "# Parse the page using BeautifulSoup\n",
    "soup = BeautifulSoup(response.text, \"html.parser\")\n",
    "\n",
    "# Extract the movie details\n",
    "movies = []\n",
    "for row in soup.select(\"tbody.lister-list tr\")[:100]:  # Get top 100 movies\n",
    "    try:\n",
    "        title_column = row.select_one(\"td.titleColumn\")\n",
    "        title = title_column.a.text  # Movie title\n",
    "        year = title_column.span.text.strip(\"()\")  # Year of release\n",
    "        rating = row.select_one(\"td.imdbRating strong\").text if row.select_one(\"td.imdbRating strong\") else \"N/A\"  # IMDb rating\n",
    "        link = \"https://www.imdb.com\" + title_column.a[\"href\"]  # Movie link\n",
    "\n",
    "        # Open each movie's page to extract more details\n",
    "        movie_response = requests.get(link, headers=headers)\n",
    "        movie_soup = BeautifulSoup(movie_response.text, \"html.parser\")\n",
    "\n",
    "        # Extract additional details\n",
    "        genre = \", \".join([g.text for g in movie_soup.select(\"div[data-testid='genres'] a\")])\n",
    "        director = movie_soup.select_one(\"a[data-testid='title-pc-principal-credit']\").text if movie_soup.select_one(\"a[data-testid='title-pc-principal-credit']\") else \"N/A\"\n",
    "        runtime = movie_soup.select_one(\"li[data-testid='title-techspec_runtime']\").text if movie_soup.select_one(\"li[data-testid='title-techspec_runtime']\") else \"N/A\"\n",
    "\n",
    "        movies.append({\n",
    "            \"Title\": title,\n",
    "            \"Year\": year,\n",
    "            \"IMDb Rating\": rating,\n",
    "            \"Genre\": genre,\n",
    "            \"Director\": director,\n",
    "            \"Runtime\": runtime,\n",
    "            \"IMDb Link\": link\n",
    "        })\n",
    "        \n",
    "        print(f\"✅ Scraped: {title}\")\n",
    "\n",
    "    except Exception as e:\n",
    "        print(f\"❌ Error scraping movie data: {e}\")\n",
    "\n",
    "# Check if the data was successfully collected\n",
    "if movies:\n",
    "    # Convert list to DataFrame\n",
    "    df = pd.DataFrame(movies)\n",
    "    \n",
    "    # Save to CSV\n",
    "    df.to_csv(\"YourLastName_IMDb_Top100.csv\", index=False)\n",
    "    print(\"✅ IMDb Top 100 Movies saved to CSV! 🎬\")\n",
    "else:\n",
    "    print(\"❌ No data collected, check for scraping issues.\")\n"
   ]
  }
 ],
 "metadata": {
  "kernelspec": {
   "display_name": "Python 3",
   "language": "python",
   "name": "python3"
  },
  "language_info": {
   "codemirror_mode": {
    "name": "ipython",
    "version": 3
   },
   "file_extension": ".py",
   "mimetype": "text/x-python",
   "name": "python",
   "nbconvert_exporter": "python",
   "pygments_lexer": "ipython3",
   "version": "3.12.2"
  }
 },
 "nbformat": 4,
 "nbformat_minor": 2
}
