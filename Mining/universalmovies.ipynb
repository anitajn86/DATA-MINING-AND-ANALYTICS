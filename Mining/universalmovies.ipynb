{
 "cells": [
  {
   "cell_type": "code",
   "execution_count": 1,
   "metadata": {},
   "outputs": [],
   "source": [
    "import requests\n",
    "import csv\n",
    "from bs4 import BeautifulSoup"
   ]
  },
  {
   "cell_type": "code",
   "execution_count": 2,
   "metadata": {},
   "outputs": [
    {
     "name": "stdout",
     "output_type": "stream",
     "text": [
      "Data saved to universal_movie_data.csv\n"
     ]
    }
   ],
   "source": [
    "\n",
    "\n",
    "def scrape_universal_movie(movie_url, output_csv=\"universal_movie_data.csv\"):\n",
    "    headers = {\"User-Agent\": \"Mozilla/5.0\"}\n",
    "\n",
    "    # Fetch page content\n",
    "    response = requests.get(movie_url, headers=headers)\n",
    "    soup = BeautifulSoup(response.text, \"html.parser\")\n",
    "\n",
    "    # Extract movie details\n",
    "    title = soup.select_one(\"h2\",class_=\"11\").text.strip() if soup.select_one(\"h2\",class_=\"11\") else \"N/A\"\n",
    "    \n",
    "    rating = soup.select_one(\"span\",class_=\"icon icon-r81\")\n",
    "    rating = rating.text.strip() if rating else \"N/A\"\n",
    "\n",
    "    release_date = soup.select_one(\"span\",class_=\"release\")\n",
    "    release_date = release_date.text.strip() if release_date else \"N/A\"\n",
    "\n",
    "    genre = soup.select_one(\"span\",class_=\"genres\")\n",
    "    genre = genre.text.strip() if genre else \"N/A\"\n",
    "\n",
    "    runtime = soup.select_one(\"span\",class_=\"runtime\")\n",
    "    runtime = runtime.text.strip() if runtime else \"N/A\"\n",
    "\n",
    "    #overview = soup.select_one(\"p.overview\")\n",
    "    #overview = overview.text.strip() if overview else \"N/A\"\n",
    "\n",
    "    director = soup.select_one(\"p\")\n",
    "    director = director.text.strip() if director else \"N/A\"\n",
    "\n",
    "    awards = soup.select_one(\"span\",class_=\"pr-2 text-white border-r border-white sm:pr-5 sm:text-xl\")\n",
    "    awards = awards.text.strip() if awards else \"N/A\"\n",
    "\n",
    "    # Save to CSV\n",
    "    with open(output_csv, mode=\"w\", newline=\"\", encoding=\"utf-8\") as file:\n",
    "        writer = csv.writer(file)\n",
    "        writer.writerow([\"Title\", \"Rating\", \"Release Date\", \"Genre\", \"Runtime\", \"Overview\", \"Director\", \"Awards\"])\n",
    "        writer.writerow([title, rating, release_date, genre, runtime, director, awards])\n",
    "\n",
    "    print(f\"Data saved to {output_csv}\")\n",
    "\n",
    "# Example usage\n",
    "movie_url = \"https://www.themoviedb.org/movie/872585-oppenheimer\"  # Replace with actual Universal Studios movie URL\n",
    "scrape_universal_movie(movie_url)\n"
   ]
  }
 ],
 "metadata": {
  "kernelspec": {
   "display_name": "Python 3",
   "language": "python",
   "name": "python3"
  },
  "language_info": {
   "codemirror_mode": {
    "name": "ipython",
    "version": 3
   },
   "file_extension": ".py",
   "mimetype": "text/x-python",
   "name": "python",
   "nbconvert_exporter": "python",
   "pygments_lexer": "ipython3",
   "version": "3.12.2"
  }
 },
 "nbformat": 4,
 "nbformat_minor": 2
}
