{
 "cells": [
  {
   "cell_type": "code",
   "execution_count": 106,
   "metadata": {},
   "outputs": [],
   "source": [
    "import requests\n",
    "import pandas as pd\n",
    "import time\n",
    "\n",
    "# Your OMDb API key\n",
    "API_KEY = \"6cd695ab\"  # Replace with your actual API key\n",
    "\n",
    "# List of 100 popular movies\n",
    "movies = [\n",
    "    \"Inception\", \"Titanic\", \"The Matrix\", \"Interstellar\", \"The Dark Knight\", \"Avatar\",\n",
    "    \"Gladiator\", \"The Godfather\", \"Pulp Fiction\", \"Forrest Gump\", \"The Shawshank Redemption\",\n",
    "    \"The Lord of the Rings: The Return of the King\", \"The Lion King\", \"Saving Private Ryan\",\n",
    "    \"Schindler's List\", \"Jurassic Park\", \"The Avengers\", \"Iron Man\", \"Spider-Man\", \"Black Panther\",\n",
    "    \"Doctor Strange\", \"Thor\", \"Guardians of the Galaxy\", \"Deadpool\", \"Logan\", \"The Batman\",\n",
    "    \"The Wolf of Wall Street\", \"Django Unchained\", \"The Departed\", \"Fight Club\", \"The Silence of the Lambs\",\n",
    "    \"The Green Mile\", \"Goodfellas\", \"Se7en\", \"The Usual Suspects\", \"The Prestige\", \"Memento\",\n",
    "    \"A Beautiful Mind\", \"The Grand Budapest Hotel\", \"Whiplash\", \"La La Land\", \"Mad Max: Fury Road\",\n",
    "    \"Parasite\", \"Everything Everywhere All at Once\", \"No Country for Old Men\", \"There Will Be Blood\",\n",
    "    \"The Social Network\", \"Her\", \"Eternal Sunshine of the Spotless Mind\", \"Shutter Island\",\n",
    "    \"The Revenant\", \"12 Years a Slave\", \"Slumdog Millionaire\", \"The Pianist\", \"The Big Short\",\n",
    "    \"Catch Me If You Can\", \"The Irishman\", \"Bohemian Rhapsody\", \"The Greatest Showman\",\n",
    "    \"The Truman Show\", \"The Sixth Sense\", \"A Quiet Place\", \"Get Out\", \"Us\", \"It\",\n",
    "    \"It Chapter Two\", \"The Conjuring\", \"Annabelle\", \"Sinister\", \"Insidious\", \"A Nightmare on Elm Street\",\n",
    "    \"Halloween\", \"Scream\", \"The Exorcist\", \"Jaws\", \"Alien\", \"Blade Runner\", \"The Terminator\",\n",
    "    \"Terminator 2: Judgment Day\", \"Back to the Future\", \"Star Wars: A New Hope\",\n",
    "    \"Star Wars: The Empire Strikes Back\", \"Star Wars: Return of the Jedi\", \"Rogue One: A Star Wars Story\",\n",
    "    \"The Hunger Games\", \"Dune\", \"Oppenheimer\", \"Barbie\", \"Mission: Impossible – Fallout\",\n",
    "    \"John Wick\", \"John Wick: Chapter 4\", \"The Equalizer\", \"The Bourne Identity\",\n",
    "    \"The Fast and the Furious\", \"Fast X\", \"Top Gun: Maverick\", \"The Meg\", \"Pacific Rim\",\n",
    "    \"Godzilla vs. Kong\", \"King Kong\", \"The Jungle Book\", \"Coco\", \"Zootopia\", \"Inside Out\"\n",
    "]\n",
    "\n",
    "# Base URL for OMDb API\n",
    "BASE_URL = \"http://www.omdbapi.com/\"\n",
    "\n",
    "# List to store movie details\n",
    "movie_data = []\n",
    "\n",
    "# Loop through each movie and fetch details\n",
    "for movie in movies:\n",
    "    params = {\"t\": movie, \"apikey\": API_KEY}\n",
    "    response = requests.get(BASE_URL, params=params)\n",
    "    \n",
    "    if response.status_code == 200:\n",
    "        data = response.json()\n",
    "        if data[\"Response\"] == \"True\":\n",
    "            movie_data.append({\n",
    "                \"Title\": data.get(\"Title\"),\n",
    "                \"Year\": data.get(\"Year\"),\n",
    "                \"Genre\": data.get(\"Genre\"),\n",
    "                \"Director\": data.get(\"Director\"),\n",
    "                \"Actors\": data.get(\"Actors\"),\n",
    "                \"IMDb Rating\": data.get(\"imdbRating\"),\n",
    "                \"Runtime\": data.get(\"Runtime\"),\n",
    "                \"Box Office\": data.get(\"BoxOffice\"),\n",
    "                \"Awards\": data.get(\"Awards\")\n",
    "            })\n",
    "        else:\n",
    "            print(f\"Movie '{movie}' not found!\")\n",
    "    else:\n",
    "        print(f\"Error fetching data for {movie}\")\n",
    "\n",
    "    # Respect API rate limits\n",
    "    time.sleep(1)  # Add a 1-second delay to avoid being blocked\n"
   ]
  },
  {
   "cell_type": "code",
   "execution_count": 107,
   "metadata": {},
   "outputs": [
    {
     "data": {
      "text/html": [
       "<div>\n",
       "<style scoped>\n",
       "    .dataframe tbody tr th:only-of-type {\n",
       "        vertical-align: middle;\n",
       "    }\n",
       "\n",
       "    .dataframe tbody tr th {\n",
       "        vertical-align: top;\n",
       "    }\n",
       "\n",
       "    .dataframe thead th {\n",
       "        text-align: right;\n",
       "    }\n",
       "</style>\n",
       "<table border=\"1\" class=\"dataframe\">\n",
       "  <thead>\n",
       "    <tr style=\"text-align: right;\">\n",
       "      <th></th>\n",
       "      <th>Title</th>\n",
       "      <th>Year</th>\n",
       "      <th>Genre</th>\n",
       "      <th>Director</th>\n",
       "      <th>Actors</th>\n",
       "      <th>IMDb Rating</th>\n",
       "      <th>Runtime</th>\n",
       "      <th>Box Office</th>\n",
       "      <th>Awards</th>\n",
       "    </tr>\n",
       "  </thead>\n",
       "  <tbody>\n",
       "    <tr>\n",
       "      <th>0</th>\n",
       "      <td>Inception</td>\n",
       "      <td>2010</td>\n",
       "      <td>Action, Adventure, Sci-Fi</td>\n",
       "      <td>Christopher Nolan</td>\n",
       "      <td>Leonardo DiCaprio, Joseph Gordon-Levitt, Ellio...</td>\n",
       "      <td>8.8</td>\n",
       "      <td>148 min</td>\n",
       "      <td>$292,587,330</td>\n",
       "      <td>Won 4 Oscars. 159 wins &amp; 220 nominations total</td>\n",
       "    </tr>\n",
       "    <tr>\n",
       "      <th>1</th>\n",
       "      <td>Titanic</td>\n",
       "      <td>1997</td>\n",
       "      <td>Drama, Romance</td>\n",
       "      <td>James Cameron</td>\n",
       "      <td>Leonardo DiCaprio, Kate Winslet, Billy Zane</td>\n",
       "      <td>7.9</td>\n",
       "      <td>194 min</td>\n",
       "      <td>$674,292,608</td>\n",
       "      <td>Won 11 Oscars. 126 wins &amp; 83 nominations total</td>\n",
       "    </tr>\n",
       "    <tr>\n",
       "      <th>2</th>\n",
       "      <td>The Matrix</td>\n",
       "      <td>1999</td>\n",
       "      <td>Action, Sci-Fi</td>\n",
       "      <td>Lana Wachowski, Lilly Wachowski</td>\n",
       "      <td>Keanu Reeves, Laurence Fishburne, Carrie-Anne ...</td>\n",
       "      <td>8.7</td>\n",
       "      <td>136 min</td>\n",
       "      <td>$172,076,928</td>\n",
       "      <td>Won 4 Oscars. 42 wins &amp; 52 nominations total</td>\n",
       "    </tr>\n",
       "    <tr>\n",
       "      <th>3</th>\n",
       "      <td>Interstellar</td>\n",
       "      <td>2014</td>\n",
       "      <td>Adventure, Drama, Sci-Fi</td>\n",
       "      <td>Christopher Nolan</td>\n",
       "      <td>Matthew McConaughey, Anne Hathaway, Jessica Ch...</td>\n",
       "      <td>8.7</td>\n",
       "      <td>169 min</td>\n",
       "      <td>$203,227,580</td>\n",
       "      <td>Won 1 Oscar. 44 wins &amp; 148 nominations total</td>\n",
       "    </tr>\n",
       "    <tr>\n",
       "      <th>4</th>\n",
       "      <td>The Dark Knight</td>\n",
       "      <td>2008</td>\n",
       "      <td>Action, Crime, Drama</td>\n",
       "      <td>Christopher Nolan</td>\n",
       "      <td>Christian Bale, Heath Ledger, Aaron Eckhart</td>\n",
       "      <td>9.0</td>\n",
       "      <td>152 min</td>\n",
       "      <td>$534,987,076</td>\n",
       "      <td>Won 2 Oscars. 164 wins &amp; 165 nominations total</td>\n",
       "    </tr>\n",
       "    <tr>\n",
       "      <th>...</th>\n",
       "      <td>...</td>\n",
       "      <td>...</td>\n",
       "      <td>...</td>\n",
       "      <td>...</td>\n",
       "      <td>...</td>\n",
       "      <td>...</td>\n",
       "      <td>...</td>\n",
       "      <td>...</td>\n",
       "      <td>...</td>\n",
       "    </tr>\n",
       "    <tr>\n",
       "      <th>99</th>\n",
       "      <td>King Kong</td>\n",
       "      <td>2005</td>\n",
       "      <td>Action, Adventure, Romance</td>\n",
       "      <td>Peter Jackson</td>\n",
       "      <td>Naomi Watts, Jack Black, Adrien Brody</td>\n",
       "      <td>7.2</td>\n",
       "      <td>187 min</td>\n",
       "      <td>$218,080,025</td>\n",
       "      <td>Won 3 Oscars. 46 wins &amp; 104 nominations total</td>\n",
       "    </tr>\n",
       "    <tr>\n",
       "      <th>100</th>\n",
       "      <td>The Jungle Book</td>\n",
       "      <td>2016</td>\n",
       "      <td>Animation, Action, Adventure</td>\n",
       "      <td>Jon Favreau</td>\n",
       "      <td>Neel Sethi, Bill Murray, Ben Kingsley</td>\n",
       "      <td>7.3</td>\n",
       "      <td>106 min</td>\n",
       "      <td>$364,001,123</td>\n",
       "      <td>Won 1 Oscar. 33 wins &amp; 56 nominations total</td>\n",
       "    </tr>\n",
       "    <tr>\n",
       "      <th>101</th>\n",
       "      <td>Coco</td>\n",
       "      <td>2017</td>\n",
       "      <td>Animation, Adventure, Drama</td>\n",
       "      <td>Lee Unkrich, Adrian Molina</td>\n",
       "      <td>Anthony Gonzalez, Gael García Bernal, Benjamin...</td>\n",
       "      <td>8.4</td>\n",
       "      <td>105 min</td>\n",
       "      <td>$210,460,015</td>\n",
       "      <td>Won 2 Oscars. 112 wins &amp; 42 nominations total</td>\n",
       "    </tr>\n",
       "    <tr>\n",
       "      <th>102</th>\n",
       "      <td>Zootopia</td>\n",
       "      <td>2016</td>\n",
       "      <td>Animation, Action, Adventure</td>\n",
       "      <td>Byron Howard, Rich Moore, Jared Bush</td>\n",
       "      <td>Ginnifer Goodwin, Jason Bateman, Idris Elba</td>\n",
       "      <td>8.0</td>\n",
       "      <td>108 min</td>\n",
       "      <td>$341,268,248</td>\n",
       "      <td>Won 1 Oscar. 49 wins &amp; 75 nominations total</td>\n",
       "    </tr>\n",
       "    <tr>\n",
       "      <th>103</th>\n",
       "      <td>Inside Out</td>\n",
       "      <td>2015</td>\n",
       "      <td>Animation, Adventure, Comedy</td>\n",
       "      <td>Pete Docter, Ronnie Del Carmen</td>\n",
       "      <td>Amy Poehler, Bill Hader, Lewis Black</td>\n",
       "      <td>8.1</td>\n",
       "      <td>95 min</td>\n",
       "      <td>$356,461,711</td>\n",
       "      <td>Won 1 Oscar. 99 wins &amp; 118 nominations total</td>\n",
       "    </tr>\n",
       "  </tbody>\n",
       "</table>\n",
       "<p>104 rows × 9 columns</p>\n",
       "</div>"
      ],
      "text/plain": [
       "               Title  Year                         Genre  \\\n",
       "0          Inception  2010     Action, Adventure, Sci-Fi   \n",
       "1            Titanic  1997                Drama, Romance   \n",
       "2         The Matrix  1999                Action, Sci-Fi   \n",
       "3       Interstellar  2014      Adventure, Drama, Sci-Fi   \n",
       "4    The Dark Knight  2008          Action, Crime, Drama   \n",
       "..               ...   ...                           ...   \n",
       "99         King Kong  2005    Action, Adventure, Romance   \n",
       "100  The Jungle Book  2016  Animation, Action, Adventure   \n",
       "101             Coco  2017   Animation, Adventure, Drama   \n",
       "102         Zootopia  2016  Animation, Action, Adventure   \n",
       "103       Inside Out  2015  Animation, Adventure, Comedy   \n",
       "\n",
       "                                 Director  \\\n",
       "0                       Christopher Nolan   \n",
       "1                           James Cameron   \n",
       "2         Lana Wachowski, Lilly Wachowski   \n",
       "3                       Christopher Nolan   \n",
       "4                       Christopher Nolan   \n",
       "..                                    ...   \n",
       "99                          Peter Jackson   \n",
       "100                           Jon Favreau   \n",
       "101            Lee Unkrich, Adrian Molina   \n",
       "102  Byron Howard, Rich Moore, Jared Bush   \n",
       "103        Pete Docter, Ronnie Del Carmen   \n",
       "\n",
       "                                                Actors IMDb Rating  Runtime  \\\n",
       "0    Leonardo DiCaprio, Joseph Gordon-Levitt, Ellio...         8.8  148 min   \n",
       "1          Leonardo DiCaprio, Kate Winslet, Billy Zane         7.9  194 min   \n",
       "2    Keanu Reeves, Laurence Fishburne, Carrie-Anne ...         8.7  136 min   \n",
       "3    Matthew McConaughey, Anne Hathaway, Jessica Ch...         8.7  169 min   \n",
       "4          Christian Bale, Heath Ledger, Aaron Eckhart         9.0  152 min   \n",
       "..                                                 ...         ...      ...   \n",
       "99               Naomi Watts, Jack Black, Adrien Brody         7.2  187 min   \n",
       "100              Neel Sethi, Bill Murray, Ben Kingsley         7.3  106 min   \n",
       "101  Anthony Gonzalez, Gael García Bernal, Benjamin...         8.4  105 min   \n",
       "102        Ginnifer Goodwin, Jason Bateman, Idris Elba         8.0  108 min   \n",
       "103               Amy Poehler, Bill Hader, Lewis Black         8.1   95 min   \n",
       "\n",
       "       Box Office                                          Awards  \n",
       "0    $292,587,330  Won 4 Oscars. 159 wins & 220 nominations total  \n",
       "1    $674,292,608  Won 11 Oscars. 126 wins & 83 nominations total  \n",
       "2    $172,076,928    Won 4 Oscars. 42 wins & 52 nominations total  \n",
       "3    $203,227,580    Won 1 Oscar. 44 wins & 148 nominations total  \n",
       "4    $534,987,076  Won 2 Oscars. 164 wins & 165 nominations total  \n",
       "..            ...                                             ...  \n",
       "99   $218,080,025   Won 3 Oscars. 46 wins & 104 nominations total  \n",
       "100  $364,001,123     Won 1 Oscar. 33 wins & 56 nominations total  \n",
       "101  $210,460,015   Won 2 Oscars. 112 wins & 42 nominations total  \n",
       "102  $341,268,248     Won 1 Oscar. 49 wins & 75 nominations total  \n",
       "103  $356,461,711    Won 1 Oscar. 99 wins & 118 nominations total  \n",
       "\n",
       "[104 rows x 9 columns]"
      ]
     },
     "execution_count": 107,
     "metadata": {},
     "output_type": "execute_result"
    }
   ],
   "source": [
    "# Convert list to DataFrame\n",
    "df = pd.DataFrame(movie_data)\n",
    "df"
   ]
  },
  {
   "cell_type": "code",
   "execution_count": 108,
   "metadata": {},
   "outputs": [],
   "source": [
    "# Save DataFrame to CSV\n",
    "df.to_csv(\"Anita's_movies.csv\", index=False)"
   ]
  },
  {
   "cell_type": "code",
   "execution_count": 109,
   "metadata": {},
   "outputs": [],
   "source": [
    "import matplotlib.pyplot as plt\n",
    "import seaborn as sns\n",
    "from collections import Counter"
   ]
  },
  {
   "cell_type": "code",
   "execution_count": 110,
   "metadata": {},
   "outputs": [
    {
     "data": {
      "text/plain": [
       "[('Drama', 51),\n",
       " ('Action', 41),\n",
       " ('Adventure', 34),\n",
       " ('Sci-Fi', 25),\n",
       " ('Crime', 21),\n",
       " ('Thriller', 20),\n",
       " ('Horror', 17),\n",
       " ('Mystery', 15),\n",
       " ('Biography', 13),\n",
       " ('Comedy', 13),\n",
       " ('Fantasy', 9),\n",
       " ('Romance', 6),\n",
       " ('Animation', 6),\n",
       " ('Music', 4),\n",
       " ('History', 3),\n",
       " ('War', 1),\n",
       " ('Western', 1),\n",
       " ('Musical', 1),\n",
       " ('Short', 1)]"
      ]
     },
     "execution_count": 110,
     "metadata": {},
     "output_type": "execute_result"
    }
   ],
   "source": [
    "# Split genres and count occurrences\n",
    "from collections import Counter\n",
    "\n",
    "# Flatten the list of genres\n",
    "all_genres = [genre.strip() for genres in df[\"Genre\"].dropna() for genre in genres.split(\",\")]\n",
    "\n",
    "# Count occurrences\n",
    "genre_counts = Counter(all_genres)\n",
    "\n",
    "# Find the most common genre\n",
    "most_common_genre = genre_counts.most_common(20)  #19 genres\n",
    "most_common_genre\n"
   ]
  },
  {
   "cell_type": "code",
   "execution_count": 111,
   "metadata": {},
   "outputs": [
    {
     "data": {
      "text/plain": [
       "Counter({'Action, Adventure, Sci-Fi': 12,\n",
       "         'Horror, Mystery, Thriller': 6,\n",
       "         'Action, Adventure, Fantasy': 4,\n",
       "         'Action, Crime, Thriller': 4,\n",
       "         'Drama': 3,\n",
       "         'Biography, Drama, History': 3,\n",
       "         'Biography, Crime, Drama': 3,\n",
       "         'Horror': 3,\n",
       "         'Drama, Romance': 2,\n",
       "         'Action, Sci-Fi': 2,\n",
       "         'Action, Crime, Drama': 2,\n",
       "         'Action, Adventure, Drama': 2,\n",
       "         'Crime, Drama': 2,\n",
       "         'Animation, Adventure, Drama': 2,\n",
       "         'Action, Adventure, Comedy': 2,\n",
       "         'Action, Drama, Sci-Fi': 2,\n",
       "         'Crime, Drama, Thriller': 2,\n",
       "         'Crime, Drama, Mystery': 2,\n",
       "         'Drama, Romance, Sci-Fi': 2,\n",
       "         'Drama, Mystery, Thriller': 2,\n",
       "         'Biography, Drama, Music': 2,\n",
       "         'Animation, Action, Adventure': 2,\n",
       "         'Adventure, Drama, Sci-Fi': 1,\n",
       "         'Adventure, Drama, Fantasy': 1,\n",
       "         'Drama, War': 1,\n",
       "         'Action, Fantasy': 1,\n",
       "         'Action, Comedy': 1,\n",
       "         'Biography, Comedy, Crime': 1,\n",
       "         'Comedy, Drama, Western': 1,\n",
       "         'Crime, Drama, Horror': 1,\n",
       "         'Crime, Drama, Fantasy': 1,\n",
       "         'Drama, Mystery, Sci-Fi': 1,\n",
       "         'Mystery, Thriller': 1,\n",
       "         'Biography, Drama, Mystery': 1,\n",
       "         'Adventure, Comedy, Crime': 1,\n",
       "         'Drama, Music': 1,\n",
       "         'Comedy, Drama, Music': 1,\n",
       "         'Drama, Thriller': 1,\n",
       "         'Biography, Drama': 1,\n",
       "         'Crime, Drama, Romance': 1,\n",
       "         'Biography, Comedy, Drama': 1,\n",
       "         'Biography, Drama, Musical': 1,\n",
       "         'Comedy, Drama': 1,\n",
       "         'Drama, Horror, Sci-Fi': 1,\n",
       "         'Drama, Fantasy, Horror': 1,\n",
       "         'Horror, Thriller': 1,\n",
       "         'Horror, Mystery': 1,\n",
       "         'Adventure, Drama, Horror': 1,\n",
       "         'Horror, Sci-Fi': 1,\n",
       "         'Adventure, Comedy, Sci-Fi': 1,\n",
       "         'Animation, Short, Comedy': 1,\n",
       "         'Adventure, Comedy, Fantasy': 1,\n",
       "         'Action, Adventure, Thriller': 1,\n",
       "         'Action, Mystery, Thriller': 1,\n",
       "         'Action, Adventure, Crime': 1,\n",
       "         'Action, Drama': 1,\n",
       "         'Action, Horror, Sci-Fi': 1,\n",
       "         'Action, Sci-Fi, Thriller': 1,\n",
       "         'Action, Adventure, Romance': 1,\n",
       "         'Animation, Adventure, Comedy': 1})"
      ]
     },
     "execution_count": 111,
     "metadata": {},
     "output_type": "execute_result"
    }
   ],
   "source": [
    "genre_count  = Counter(df['Genre'])\n",
    "genre_count"
   ]
  },
  {
   "cell_type": "code",
   "execution_count": 112,
   "metadata": {},
   "outputs": [
    {
     "data": {
      "text/plain": [
       "Title          object\n",
       "Year           object\n",
       "Genre          object\n",
       "Director       object\n",
       "Actors         object\n",
       "IMDb Rating    object\n",
       "Runtime        object\n",
       "Box Office     object\n",
       "Awards         object\n",
       "dtype: object"
      ]
     },
     "execution_count": 112,
     "metadata": {},
     "output_type": "execute_result"
    }
   ],
   "source": [
    "df.dtypes"
   ]
  },
  {
   "cell_type": "code",
   "execution_count": 113,
   "metadata": {},
   "outputs": [
    {
     "data": {
      "text/plain": [
       "Title          0\n",
       "Year           0\n",
       "Genre          0\n",
       "Director       0\n",
       "Actors         0\n",
       "IMDb Rating    0\n",
       "Runtime        0\n",
       "Box Office     2\n",
       "Awards         0\n",
       "dtype: int64"
      ]
     },
     "execution_count": 113,
     "metadata": {},
     "output_type": "execute_result"
    }
   ],
   "source": [
    "df.isna().sum()"
   ]
  },
  {
   "cell_type": "code",
   "execution_count": 114,
   "metadata": {},
   "outputs": [
    {
     "name": "stdout",
     "output_type": "stream",
     "text": [
      "0      $292,587,330\n",
      "1      $674,292,608\n",
      "2      $172,076,928\n",
      "3      $203,227,580\n",
      "4      $534,987,076\n",
      "           ...     \n",
      "99     $218,080,025\n",
      "100    $364,001,123\n",
      "101    $210,460,015\n",
      "102    $341,268,248\n",
      "103    $356,461,711\n",
      "Name: Box Office, Length: 102, dtype: object\n"
     ]
    }
   ],
   "source": [
    "# Display unique values that are non-numeric\n",
    "print(df['Box Office'][df['Box Office'].str.contains(r'[^0-9.]', regex=True, na=False)])\n"
   ]
  },
  {
   "cell_type": "code",
   "execution_count": 115,
   "metadata": {},
   "outputs": [],
   "source": [
    "df['Box Office'] = df['Box Office'].str.strip()"
   ]
  },
  {
   "cell_type": "code",
   "execution_count": 116,
   "metadata": {},
   "outputs": [],
   "source": [
    "df['Box Office'] = df['Box Office'].replace(r'[$,]', '', regex=True)"
   ]
  },
  {
   "cell_type": "code",
   "execution_count": 117,
   "metadata": {},
   "outputs": [],
   "source": [
    "df['Box Office'] = df['Box Office'].str.strip()"
   ]
  },
  {
   "cell_type": "code",
   "execution_count": 118,
   "metadata": {},
   "outputs": [],
   "source": [
    "df['Box Office'] = df['Box Office'].replace(['N/A', 'Unknown', '-', ''], float('nan'))"
   ]
  },
  {
   "cell_type": "code",
   "execution_count": 119,
   "metadata": {},
   "outputs": [
    {
     "data": {
      "text/html": [
       "<div>\n",
       "<style scoped>\n",
       "    .dataframe tbody tr th:only-of-type {\n",
       "        vertical-align: middle;\n",
       "    }\n",
       "\n",
       "    .dataframe tbody tr th {\n",
       "        vertical-align: top;\n",
       "    }\n",
       "\n",
       "    .dataframe thead th {\n",
       "        text-align: right;\n",
       "    }\n",
       "</style>\n",
       "<table border=\"1\" class=\"dataframe\">\n",
       "  <thead>\n",
       "    <tr style=\"text-align: right;\">\n",
       "      <th></th>\n",
       "      <th>Title</th>\n",
       "      <th>Year</th>\n",
       "      <th>Genre</th>\n",
       "      <th>Director</th>\n",
       "      <th>Actors</th>\n",
       "      <th>IMDb Rating</th>\n",
       "      <th>Runtime</th>\n",
       "      <th>Box Office</th>\n",
       "      <th>Awards</th>\n",
       "    </tr>\n",
       "  </thead>\n",
       "  <tbody>\n",
       "    <tr>\n",
       "      <th>0</th>\n",
       "      <td>Inception</td>\n",
       "      <td>2010</td>\n",
       "      <td>Action, Adventure, Sci-Fi</td>\n",
       "      <td>Christopher Nolan</td>\n",
       "      <td>Leonardo DiCaprio, Joseph Gordon-Levitt, Ellio...</td>\n",
       "      <td>8.8</td>\n",
       "      <td>148 min</td>\n",
       "      <td>292587330</td>\n",
       "      <td>Won 4 Oscars. 159 wins &amp; 220 nominations total</td>\n",
       "    </tr>\n",
       "    <tr>\n",
       "      <th>1</th>\n",
       "      <td>Titanic</td>\n",
       "      <td>1997</td>\n",
       "      <td>Drama, Romance</td>\n",
       "      <td>James Cameron</td>\n",
       "      <td>Leonardo DiCaprio, Kate Winslet, Billy Zane</td>\n",
       "      <td>7.9</td>\n",
       "      <td>194 min</td>\n",
       "      <td>674292608</td>\n",
       "      <td>Won 11 Oscars. 126 wins &amp; 83 nominations total</td>\n",
       "    </tr>\n",
       "    <tr>\n",
       "      <th>2</th>\n",
       "      <td>The Matrix</td>\n",
       "      <td>1999</td>\n",
       "      <td>Action, Sci-Fi</td>\n",
       "      <td>Lana Wachowski, Lilly Wachowski</td>\n",
       "      <td>Keanu Reeves, Laurence Fishburne, Carrie-Anne ...</td>\n",
       "      <td>8.7</td>\n",
       "      <td>136 min</td>\n",
       "      <td>172076928</td>\n",
       "      <td>Won 4 Oscars. 42 wins &amp; 52 nominations total</td>\n",
       "    </tr>\n",
       "    <tr>\n",
       "      <th>3</th>\n",
       "      <td>Interstellar</td>\n",
       "      <td>2014</td>\n",
       "      <td>Adventure, Drama, Sci-Fi</td>\n",
       "      <td>Christopher Nolan</td>\n",
       "      <td>Matthew McConaughey, Anne Hathaway, Jessica Ch...</td>\n",
       "      <td>8.7</td>\n",
       "      <td>169 min</td>\n",
       "      <td>203227580</td>\n",
       "      <td>Won 1 Oscar. 44 wins &amp; 148 nominations total</td>\n",
       "    </tr>\n",
       "    <tr>\n",
       "      <th>4</th>\n",
       "      <td>The Dark Knight</td>\n",
       "      <td>2008</td>\n",
       "      <td>Action, Crime, Drama</td>\n",
       "      <td>Christopher Nolan</td>\n",
       "      <td>Christian Bale, Heath Ledger, Aaron Eckhart</td>\n",
       "      <td>9.0</td>\n",
       "      <td>152 min</td>\n",
       "      <td>534987076</td>\n",
       "      <td>Won 2 Oscars. 164 wins &amp; 165 nominations total</td>\n",
       "    </tr>\n",
       "    <tr>\n",
       "      <th>...</th>\n",
       "      <td>...</td>\n",
       "      <td>...</td>\n",
       "      <td>...</td>\n",
       "      <td>...</td>\n",
       "      <td>...</td>\n",
       "      <td>...</td>\n",
       "      <td>...</td>\n",
       "      <td>...</td>\n",
       "      <td>...</td>\n",
       "    </tr>\n",
       "    <tr>\n",
       "      <th>99</th>\n",
       "      <td>King Kong</td>\n",
       "      <td>2005</td>\n",
       "      <td>Action, Adventure, Romance</td>\n",
       "      <td>Peter Jackson</td>\n",
       "      <td>Naomi Watts, Jack Black, Adrien Brody</td>\n",
       "      <td>7.2</td>\n",
       "      <td>187 min</td>\n",
       "      <td>218080025</td>\n",
       "      <td>Won 3 Oscars. 46 wins &amp; 104 nominations total</td>\n",
       "    </tr>\n",
       "    <tr>\n",
       "      <th>100</th>\n",
       "      <td>The Jungle Book</td>\n",
       "      <td>2016</td>\n",
       "      <td>Animation, Action, Adventure</td>\n",
       "      <td>Jon Favreau</td>\n",
       "      <td>Neel Sethi, Bill Murray, Ben Kingsley</td>\n",
       "      <td>7.3</td>\n",
       "      <td>106 min</td>\n",
       "      <td>364001123</td>\n",
       "      <td>Won 1 Oscar. 33 wins &amp; 56 nominations total</td>\n",
       "    </tr>\n",
       "    <tr>\n",
       "      <th>101</th>\n",
       "      <td>Coco</td>\n",
       "      <td>2017</td>\n",
       "      <td>Animation, Adventure, Drama</td>\n",
       "      <td>Lee Unkrich, Adrian Molina</td>\n",
       "      <td>Anthony Gonzalez, Gael García Bernal, Benjamin...</td>\n",
       "      <td>8.4</td>\n",
       "      <td>105 min</td>\n",
       "      <td>210460015</td>\n",
       "      <td>Won 2 Oscars. 112 wins &amp; 42 nominations total</td>\n",
       "    </tr>\n",
       "    <tr>\n",
       "      <th>102</th>\n",
       "      <td>Zootopia</td>\n",
       "      <td>2016</td>\n",
       "      <td>Animation, Action, Adventure</td>\n",
       "      <td>Byron Howard, Rich Moore, Jared Bush</td>\n",
       "      <td>Ginnifer Goodwin, Jason Bateman, Idris Elba</td>\n",
       "      <td>8.0</td>\n",
       "      <td>108 min</td>\n",
       "      <td>341268248</td>\n",
       "      <td>Won 1 Oscar. 49 wins &amp; 75 nominations total</td>\n",
       "    </tr>\n",
       "    <tr>\n",
       "      <th>103</th>\n",
       "      <td>Inside Out</td>\n",
       "      <td>2015</td>\n",
       "      <td>Animation, Adventure, Comedy</td>\n",
       "      <td>Pete Docter, Ronnie Del Carmen</td>\n",
       "      <td>Amy Poehler, Bill Hader, Lewis Black</td>\n",
       "      <td>8.1</td>\n",
       "      <td>95 min</td>\n",
       "      <td>356461711</td>\n",
       "      <td>Won 1 Oscar. 99 wins &amp; 118 nominations total</td>\n",
       "    </tr>\n",
       "  </tbody>\n",
       "</table>\n",
       "<p>104 rows × 9 columns</p>\n",
       "</div>"
      ],
      "text/plain": [
       "               Title  Year                         Genre  \\\n",
       "0          Inception  2010     Action, Adventure, Sci-Fi   \n",
       "1            Titanic  1997                Drama, Romance   \n",
       "2         The Matrix  1999                Action, Sci-Fi   \n",
       "3       Interstellar  2014      Adventure, Drama, Sci-Fi   \n",
       "4    The Dark Knight  2008          Action, Crime, Drama   \n",
       "..               ...   ...                           ...   \n",
       "99         King Kong  2005    Action, Adventure, Romance   \n",
       "100  The Jungle Book  2016  Animation, Action, Adventure   \n",
       "101             Coco  2017   Animation, Adventure, Drama   \n",
       "102         Zootopia  2016  Animation, Action, Adventure   \n",
       "103       Inside Out  2015  Animation, Adventure, Comedy   \n",
       "\n",
       "                                 Director  \\\n",
       "0                       Christopher Nolan   \n",
       "1                           James Cameron   \n",
       "2         Lana Wachowski, Lilly Wachowski   \n",
       "3                       Christopher Nolan   \n",
       "4                       Christopher Nolan   \n",
       "..                                    ...   \n",
       "99                          Peter Jackson   \n",
       "100                           Jon Favreau   \n",
       "101            Lee Unkrich, Adrian Molina   \n",
       "102  Byron Howard, Rich Moore, Jared Bush   \n",
       "103        Pete Docter, Ronnie Del Carmen   \n",
       "\n",
       "                                                Actors IMDb Rating  Runtime  \\\n",
       "0    Leonardo DiCaprio, Joseph Gordon-Levitt, Ellio...         8.8  148 min   \n",
       "1          Leonardo DiCaprio, Kate Winslet, Billy Zane         7.9  194 min   \n",
       "2    Keanu Reeves, Laurence Fishburne, Carrie-Anne ...         8.7  136 min   \n",
       "3    Matthew McConaughey, Anne Hathaway, Jessica Ch...         8.7  169 min   \n",
       "4          Christian Bale, Heath Ledger, Aaron Eckhart         9.0  152 min   \n",
       "..                                                 ...         ...      ...   \n",
       "99               Naomi Watts, Jack Black, Adrien Brody         7.2  187 min   \n",
       "100              Neel Sethi, Bill Murray, Ben Kingsley         7.3  106 min   \n",
       "101  Anthony Gonzalez, Gael García Bernal, Benjamin...         8.4  105 min   \n",
       "102        Ginnifer Goodwin, Jason Bateman, Idris Elba         8.0  108 min   \n",
       "103               Amy Poehler, Bill Hader, Lewis Black         8.1   95 min   \n",
       "\n",
       "    Box Office                                          Awards  \n",
       "0    292587330  Won 4 Oscars. 159 wins & 220 nominations total  \n",
       "1    674292608  Won 11 Oscars. 126 wins & 83 nominations total  \n",
       "2    172076928    Won 4 Oscars. 42 wins & 52 nominations total  \n",
       "3    203227580    Won 1 Oscar. 44 wins & 148 nominations total  \n",
       "4    534987076  Won 2 Oscars. 164 wins & 165 nominations total  \n",
       "..         ...                                             ...  \n",
       "99   218080025   Won 3 Oscars. 46 wins & 104 nominations total  \n",
       "100  364001123     Won 1 Oscar. 33 wins & 56 nominations total  \n",
       "101  210460015   Won 2 Oscars. 112 wins & 42 nominations total  \n",
       "102  341268248     Won 1 Oscar. 49 wins & 75 nominations total  \n",
       "103  356461711    Won 1 Oscar. 99 wins & 118 nominations total  \n",
       "\n",
       "[104 rows x 9 columns]"
      ]
     },
     "execution_count": 119,
     "metadata": {},
     "output_type": "execute_result"
    }
   ],
   "source": [
    "df"
   ]
  },
  {
   "cell_type": "code",
   "execution_count": 120,
   "metadata": {},
   "outputs": [],
   "source": [
    "df['Box Office'] = df['Box Office'].astype(float)"
   ]
  },
  {
   "cell_type": "code",
   "execution_count": 121,
   "metadata": {},
   "outputs": [
    {
     "data": {
      "text/html": [
       "<div>\n",
       "<style scoped>\n",
       "    .dataframe tbody tr th:only-of-type {\n",
       "        vertical-align: middle;\n",
       "    }\n",
       "\n",
       "    .dataframe tbody tr th {\n",
       "        vertical-align: top;\n",
       "    }\n",
       "\n",
       "    .dataframe thead th {\n",
       "        text-align: right;\n",
       "    }\n",
       "</style>\n",
       "<table border=\"1\" class=\"dataframe\">\n",
       "  <thead>\n",
       "    <tr style=\"text-align: right;\">\n",
       "      <th></th>\n",
       "      <th>Title</th>\n",
       "      <th>Year</th>\n",
       "      <th>Genre</th>\n",
       "      <th>Director</th>\n",
       "      <th>Actors</th>\n",
       "      <th>IMDb Rating</th>\n",
       "      <th>Runtime</th>\n",
       "      <th>Box Office</th>\n",
       "      <th>Awards</th>\n",
       "    </tr>\n",
       "  </thead>\n",
       "  <tbody>\n",
       "    <tr>\n",
       "      <th>0</th>\n",
       "      <td>Inception</td>\n",
       "      <td>2010</td>\n",
       "      <td>Action, Adventure, Sci-Fi</td>\n",
       "      <td>Christopher Nolan</td>\n",
       "      <td>Leonardo DiCaprio, Joseph Gordon-Levitt, Ellio...</td>\n",
       "      <td>8.8</td>\n",
       "      <td>148 min</td>\n",
       "      <td>292587330.0</td>\n",
       "      <td>Won 4 Oscars. 159 wins &amp; 220 nominations total</td>\n",
       "    </tr>\n",
       "    <tr>\n",
       "      <th>1</th>\n",
       "      <td>Titanic</td>\n",
       "      <td>1997</td>\n",
       "      <td>Drama, Romance</td>\n",
       "      <td>James Cameron</td>\n",
       "      <td>Leonardo DiCaprio, Kate Winslet, Billy Zane</td>\n",
       "      <td>7.9</td>\n",
       "      <td>194 min</td>\n",
       "      <td>674292608.0</td>\n",
       "      <td>Won 11 Oscars. 126 wins &amp; 83 nominations total</td>\n",
       "    </tr>\n",
       "    <tr>\n",
       "      <th>2</th>\n",
       "      <td>The Matrix</td>\n",
       "      <td>1999</td>\n",
       "      <td>Action, Sci-Fi</td>\n",
       "      <td>Lana Wachowski, Lilly Wachowski</td>\n",
       "      <td>Keanu Reeves, Laurence Fishburne, Carrie-Anne ...</td>\n",
       "      <td>8.7</td>\n",
       "      <td>136 min</td>\n",
       "      <td>172076928.0</td>\n",
       "      <td>Won 4 Oscars. 42 wins &amp; 52 nominations total</td>\n",
       "    </tr>\n",
       "    <tr>\n",
       "      <th>3</th>\n",
       "      <td>Interstellar</td>\n",
       "      <td>2014</td>\n",
       "      <td>Adventure, Drama, Sci-Fi</td>\n",
       "      <td>Christopher Nolan</td>\n",
       "      <td>Matthew McConaughey, Anne Hathaway, Jessica Ch...</td>\n",
       "      <td>8.7</td>\n",
       "      <td>169 min</td>\n",
       "      <td>203227580.0</td>\n",
       "      <td>Won 1 Oscar. 44 wins &amp; 148 nominations total</td>\n",
       "    </tr>\n",
       "    <tr>\n",
       "      <th>4</th>\n",
       "      <td>The Dark Knight</td>\n",
       "      <td>2008</td>\n",
       "      <td>Action, Crime, Drama</td>\n",
       "      <td>Christopher Nolan</td>\n",
       "      <td>Christian Bale, Heath Ledger, Aaron Eckhart</td>\n",
       "      <td>9.0</td>\n",
       "      <td>152 min</td>\n",
       "      <td>534987076.0</td>\n",
       "      <td>Won 2 Oscars. 164 wins &amp; 165 nominations total</td>\n",
       "    </tr>\n",
       "    <tr>\n",
       "      <th>5</th>\n",
       "      <td>Avatar</td>\n",
       "      <td>2009</td>\n",
       "      <td>Action, Adventure, Fantasy</td>\n",
       "      <td>James Cameron</td>\n",
       "      <td>Sam Worthington, Zoe Saldaña, Sigourney Weaver</td>\n",
       "      <td>7.9</td>\n",
       "      <td>162 min</td>\n",
       "      <td>785221649.0</td>\n",
       "      <td>Won 3 Oscars. 91 wins &amp; 131 nominations total</td>\n",
       "    </tr>\n",
       "    <tr>\n",
       "      <th>6</th>\n",
       "      <td>Gladiator</td>\n",
       "      <td>2000</td>\n",
       "      <td>Action, Adventure, Drama</td>\n",
       "      <td>Ridley Scott</td>\n",
       "      <td>Russell Crowe, Joaquin Phoenix, Connie Nielsen</td>\n",
       "      <td>8.5</td>\n",
       "      <td>155 min</td>\n",
       "      <td>187705427.0</td>\n",
       "      <td>Won 5 Oscars. 60 wins &amp; 104 nominations total</td>\n",
       "    </tr>\n",
       "  </tbody>\n",
       "</table>\n",
       "</div>"
      ],
      "text/plain": [
       "             Title  Year                       Genre  \\\n",
       "0        Inception  2010   Action, Adventure, Sci-Fi   \n",
       "1          Titanic  1997              Drama, Romance   \n",
       "2       The Matrix  1999              Action, Sci-Fi   \n",
       "3     Interstellar  2014    Adventure, Drama, Sci-Fi   \n",
       "4  The Dark Knight  2008        Action, Crime, Drama   \n",
       "5           Avatar  2009  Action, Adventure, Fantasy   \n",
       "6        Gladiator  2000    Action, Adventure, Drama   \n",
       "\n",
       "                          Director  \\\n",
       "0                Christopher Nolan   \n",
       "1                    James Cameron   \n",
       "2  Lana Wachowski, Lilly Wachowski   \n",
       "3                Christopher Nolan   \n",
       "4                Christopher Nolan   \n",
       "5                    James Cameron   \n",
       "6                     Ridley Scott   \n",
       "\n",
       "                                              Actors IMDb Rating  Runtime  \\\n",
       "0  Leonardo DiCaprio, Joseph Gordon-Levitt, Ellio...         8.8  148 min   \n",
       "1        Leonardo DiCaprio, Kate Winslet, Billy Zane         7.9  194 min   \n",
       "2  Keanu Reeves, Laurence Fishburne, Carrie-Anne ...         8.7  136 min   \n",
       "3  Matthew McConaughey, Anne Hathaway, Jessica Ch...         8.7  169 min   \n",
       "4        Christian Bale, Heath Ledger, Aaron Eckhart         9.0  152 min   \n",
       "5     Sam Worthington, Zoe Saldaña, Sigourney Weaver         7.9  162 min   \n",
       "6     Russell Crowe, Joaquin Phoenix, Connie Nielsen         8.5  155 min   \n",
       "\n",
       "    Box Office                                          Awards  \n",
       "0  292587330.0  Won 4 Oscars. 159 wins & 220 nominations total  \n",
       "1  674292608.0  Won 11 Oscars. 126 wins & 83 nominations total  \n",
       "2  172076928.0    Won 4 Oscars. 42 wins & 52 nominations total  \n",
       "3  203227580.0    Won 1 Oscar. 44 wins & 148 nominations total  \n",
       "4  534987076.0  Won 2 Oscars. 164 wins & 165 nominations total  \n",
       "5  785221649.0   Won 3 Oscars. 91 wins & 131 nominations total  \n",
       "6  187705427.0   Won 5 Oscars. 60 wins & 104 nominations total  "
      ]
     },
     "execution_count": 121,
     "metadata": {},
     "output_type": "execute_result"
    }
   ],
   "source": [
    "df.head(7)"
   ]
  },
  {
   "cell_type": "code",
   "execution_count": 122,
   "metadata": {},
   "outputs": [
    {
     "data": {
      "text/plain": [
       "4"
      ]
     },
     "execution_count": 122,
     "metadata": {},
     "output_type": "execute_result"
    }
   ],
   "source": [
    "df['Box Office'].isna().sum()"
   ]
  },
  {
   "cell_type": "code",
   "execution_count": 123,
   "metadata": {},
   "outputs": [
    {
     "data": {
      "text/plain": [
       "Title          0\n",
       "Year           0\n",
       "Genre          0\n",
       "Director       0\n",
       "Actors         0\n",
       "IMDb Rating    0\n",
       "Runtime        0\n",
       "Box Office     4\n",
       "Awards         0\n",
       "dtype: int64"
      ]
     },
     "execution_count": 123,
     "metadata": {},
     "output_type": "execute_result"
    }
   ],
   "source": [
    "df.isna().sum()"
   ]
  },
  {
   "cell_type": "code",
   "execution_count": 124,
   "metadata": {},
   "outputs": [],
   "source": [
    "import numpy as np"
   ]
  },
  {
   "cell_type": "code",
   "execution_count": 125,
   "metadata": {},
   "outputs": [
    {
     "name": "stdout",
     "output_type": "stream",
     "text": [
      "                        Genre   Box Office\n",
      "0   Action, Adventure, Sci-Fi  292587330.0\n",
      "1              Drama, Romance  674292608.0\n",
      "2              Action, Sci-Fi  172076928.0\n",
      "3    Adventure, Drama, Sci-Fi  203227580.0\n",
      "4        Action, Crime, Drama  534987076.0\n",
      "5  Action, Adventure, Fantasy  785221649.0\n",
      "6    Action, Adventure, Drama  187705427.0\n",
      "7                Crime, Drama  136381073.0\n",
      "8                Crime, Drama  107928762.0\n",
      "9              Drama, Romance  330455270.0\n"
     ]
    },
    {
     "name": "stderr",
     "output_type": "stream",
     "text": [
      "C:\\Users\\LENOVO\\AppData\\Local\\Temp\\ipykernel_21936\\94703513.py:19: FutureWarning: A value is trying to be set on a copy of a DataFrame or Series through chained assignment using an inplace method.\n",
      "The behavior will change in pandas 3.0. This inplace method will never work because the intermediate object on which we are setting values always behaves as a copy.\n",
      "\n",
      "For example, when doing 'df[col].method(value, inplace=True)', try using 'df.method({col: value}, inplace=True)' or df[col] = df[col].method(value) instead, to perform the operation inplace on the original object.\n",
      "\n",
      "\n",
      "  df['Box Office'].fillna(df['Box Office'].mean(), inplace=True)\n"
     ]
    }
   ],
   "source": [
    "# Step 1: Expand multi-genre movies into separate rows\n",
    "df_expanded = df.assign(Genre=df['Genre'].str.split(', ')).explode('Genre')\n",
    "\n",
    "# Step 2: Compute average Box Office for each genre\n",
    "genre_avg_box_office = df_expanded.groupby('Genre')['Box Office'].mean()\n",
    "\n",
    "# Step 3: Function to fill missing Box Office values\n",
    "def fill_missing_box_office(row):\n",
    "    if np.isnan(row['Box Office']):  # Check if Box Office is missing\n",
    "        genres = row['Genre'].split(', ')  # Split genres\n",
    "        avg_values = [genre_avg_box_office[genre] for genre in genres if genre in genre_avg_box_office]\n",
    "        return np.mean(avg_values) if avg_values else np.nan  # Return average if available\n",
    "    return row['Box Office']\n",
    "\n",
    "# Step 4: Apply the function to fill missing values\n",
    "df['Box Office'] = df.apply(fill_missing_box_office, axis=1)\n",
    "\n",
    "# Step 5: Fill any remaining NaN values (if no genre match was found)\n",
    "df['Box Office'].fillna(df['Box Office'].mean(), inplace=True)\n",
    "\n",
    "# Step 6: Check results\n",
    "print(df[['Genre', 'Box Office']].head(10))\n"
   ]
  },
  {
   "cell_type": "code",
   "execution_count": 126,
   "metadata": {},
   "outputs": [
    {
     "data": {
      "text/plain": [
       "Title          0\n",
       "Year           0\n",
       "Genre          0\n",
       "Director       0\n",
       "Actors         0\n",
       "IMDb Rating    0\n",
       "Runtime        0\n",
       "Box Office     0\n",
       "Awards         0\n",
       "dtype: int64"
      ]
     },
     "execution_count": 126,
     "metadata": {},
     "output_type": "execute_result"
    }
   ],
   "source": [
    "df.isna().sum()"
   ]
  },
  {
   "cell_type": "code",
   "execution_count": 128,
   "metadata": {},
   "outputs": [],
   "source": [
    "import matplotlib.pyplot as plt\n",
    "import seaborn as sns"
   ]
  },
  {
   "cell_type": "code",
   "execution_count": 129,
   "metadata": {},
   "outputs": [
    {
     "data": {
      "text/plain": [
       "Title           object\n",
       "Year            object\n",
       "Genre           object\n",
       "Director        object\n",
       "Actors          object\n",
       "IMDb Rating     object\n",
       "Runtime         object\n",
       "Box Office     float64\n",
       "Awards          object\n",
       "dtype: object"
      ]
     },
     "execution_count": 129,
     "metadata": {},
     "output_type": "execute_result"
    }
   ],
   "source": [
    "df.dtypes"
   ]
  },
  {
   "cell_type": "code",
   "execution_count": 131,
   "metadata": {},
   "outputs": [],
   "source": [
    "df['IMDb Rating'] = pd.to_numeric(df['IMDb Rating'], errors='coerce')\n"
   ]
  },
  {
   "cell_type": "code",
   "execution_count": 133,
   "metadata": {},
   "outputs": [],
   "source": [
    "df['Year'] = pd.to_numeric(df['Year'], errors='coerce')"
   ]
  },
  {
   "cell_type": "code",
   "execution_count": 134,
   "metadata": {},
   "outputs": [
    {
     "data": {
      "text/plain": [
       "Title           object\n",
       "Year             int64\n",
       "Genre           object\n",
       "Director        object\n",
       "Actors          object\n",
       "IMDb Rating    float64\n",
       "Runtime         object\n",
       "Box Office     float64\n",
       "Awards          object\n",
       "dtype: object"
      ]
     },
     "execution_count": 134,
     "metadata": {},
     "output_type": "execute_result"
    }
   ],
   "source": [
    "df.dtypes"
   ]
  },
  {
   "cell_type": "code",
   "execution_count": 141,
   "metadata": {},
   "outputs": [
    {
     "data": {
      "text/plain": [
       "Title          0\n",
       "Year           0\n",
       "Genre          0\n",
       "Director       0\n",
       "Actors         0\n",
       "IMDb Rating    1\n",
       "Runtime        0\n",
       "Box Office     0\n",
       "Awards         0\n",
       "dtype: int64"
      ]
     },
     "execution_count": 141,
     "metadata": {},
     "output_type": "execute_result"
    }
   ],
   "source": [
    "df.isna().sum()"
   ]
  },
  {
   "cell_type": "code",
   "execution_count": 135,
   "metadata": {},
   "outputs": [],
   "source": [
    "# Group by Year and calculate the average Box Office per year\n",
    "yearly_box_office = df.groupby('Year')['Box Office'].mean()"
   ]
  },
  {
   "cell_type": "code",
   "execution_count": null,
   "metadata": {},
   "outputs": [
    {
     "data": {
      "image/png": "[encoded data removed]",
      "text/plain": [
       "<Figure size 1000x500 with 1 Axes>"
      ]
     },
     "metadata": {},
     "output_type": "display_data"
    }
   ],
   "source": [
    "# Plot the line graph\n",
    "plt.figure(figsize=(10, 5))\n",
    "plt.plot(yearly_box_office.index, yearly_box_office.values, linestyle='-')\n",
    "\n",
    "# Add labels and title\n",
    "plt.xlabel('Year')\n",
    "plt.ylabel('Average Box Office Revenue ($)')\n",
    "plt.title('Variance of Box Office Revenue Over the Years')\n",
    "plt.grid(True)\n",
    "\n",
    "# Show the plot\n",
    "plt.show()"
   ]
  },
  {
   "cell_type": "code",
   "execution_count": 142,
   "metadata": {},
   "outputs": [],
   "source": [
    "df['IMDb Rating']=df['IMDb Rating'].fillna(df['IMDb Rating'].mean())"
   ]
  },
  {
   "cell_type": "code",
   "execution_count": 143,
   "metadata": {},
   "outputs": [],
   "source": [
    "# Group by Year and calculate the average IMDb Rating per year\n",
    "yearly_imdb = df.groupby('Year')['IMDb Rating'].mean()"
   ]
  },
  {
   "cell_type": "code",
   "execution_count": 144,
   "metadata": {},
   "outputs": [
    {
     "data": {
      "image/png": "[encoded data removed]",
      "text/plain": [
       "<Figure size 1000x500 with 1 Axes>"
      ]
     },
     "metadata": {},
     "output_type": "display_data"
    }
   ],
   "source": [
    "# Plot the line graph\n",
    "plt.figure(figsize=(10, 5))\n",
    "plt.plot(yearly_imdb.index, yearly_imdb.values, linestyle='-')\n",
    "\n",
    "# Add labels and title\n",
    "plt.xlabel('Year')\n",
    "plt.ylabel('Average IMDb Rating')\n",
    "plt.title('Variance of IMDb rating Over the Years')\n",
    "plt.grid(True)\n",
    "\n",
    "# Show the plot\n",
    "plt.show()"
   ]
  }
 ],
 "metadata": {
  "kernelspec": {
   "display_name": "Python 3",
   "language": "python",
   "name": "python3"
  },
  "language_info": {
   "codemirror_mode": {
    "name": "ipython",
    "version": 3
   },
   "file_extension": ".py",
   "mimetype": "text/x-python",
   "name": "python",
   "nbconvert_exporter": "python",
   "pygments_lexer": "ipython3",
   "version": "3.12.2"
  }
 },
 "nbformat": 4,
 "nbformat_minor": 2
}
