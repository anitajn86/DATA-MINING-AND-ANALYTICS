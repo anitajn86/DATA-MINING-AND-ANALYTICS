{
 "cells": [
  {
   "cell_type": "code",
   "execution_count": 2,
   "metadata": {},
   "outputs": [
    {
     "name": "stdout",
     "output_type": "stream",
     "text": [
      "Movie data for 100 movies successfully saved to CSV! 🎬\n"
     ]
    }
   ],
   "source": [
    "import requests\n",
    "import pandas as pd\n",
    "import time\n",
    "\n",
    "# Your OMDb API key\n",
    "API_KEY = \"6cd695ab\"  # Replace with your actual API key\n",
    "\n",
    "# List of 100 popular movies\n",
    "movies = [\n",
    "    \"Inception\", \"Titanic\", \"The Matrix\", \"Interstellar\", \"The Dark Knight\", \"Avatar\",\n",
    "    \"Gladiator\", \"The Godfather\", \"Pulp Fiction\", \"Forrest Gump\", \"The Shawshank Redemption\",\n",
    "    \"The Lord of the Rings: The Return of the King\", \"The Lion King\", \"Saving Private Ryan\",\n",
    "    \"Schindler's List\", \"Jurassic Park\", \"The Avengers\", \"Iron Man\", \"Spider-Man\", \"Black Panther\",\n",
    "    \"Doctor Strange\", \"Thor\", \"Guardians of the Galaxy\", \"Deadpool\", \"Logan\", \"The Batman\",\n",
    "    \"The Wolf of Wall Street\", \"Django Unchained\", \"The Departed\", \"Fight Club\", \"The Silence of the Lambs\",\n",
    "    \"The Green Mile\", \"Goodfellas\", \"Se7en\", \"The Usual Suspects\", \"The Prestige\", \"Memento\",\n",
    "    \"A Beautiful Mind\", \"The Grand Budapest Hotel\", \"Whiplash\", \"La La Land\", \"Mad Max: Fury Road\",\n",
    "    \"Parasite\", \"Everything Everywhere All at Once\", \"No Country for Old Men\", \"There Will Be Blood\",\n",
    "    \"The Social Network\", \"Her\", \"Eternal Sunshine of the Spotless Mind\", \"Shutter Island\",\n",
    "    \"The Revenant\", \"12 Years a Slave\", \"Slumdog Millionaire\", \"The Pianist\", \"The Big Short\",\n",
    "    \"Catch Me If You Can\", \"The Irishman\", \"Bohemian Rhapsody\", \"The Greatest Showman\",\n",
    "    \"The Truman Show\", \"The Sixth Sense\", \"A Quiet Place\", \"Get Out\", \"Us\", \"It\",\n",
    "    \"It Chapter Two\", \"The Conjuring\", \"Annabelle\", \"Sinister\", \"Insidious\", \"A Nightmare on Elm Street\",\n",
    "    \"Halloween\", \"Scream\", \"The Exorcist\", \"Jaws\", \"Alien\", \"Blade Runner\", \"The Terminator\",\n",
    "    \"Terminator 2: Judgment Day\", \"Back to the Future\", \"Star Wars: A New Hope\",\n",
    "    \"Star Wars: The Empire Strikes Back\", \"Star Wars: Return of the Jedi\", \"Rogue One: A Star Wars Story\",\n",
    "    \"The Hunger Games\", \"Dune\", \"Oppenheimer\", \"Barbie\", \"Mission: Impossible – Fallout\",\n",
    "    \"John Wick\", \"John Wick: Chapter 4\", \"The Equalizer\", \"The Bourne Identity\",\n",
    "    \"The Fast and the Furious\", \"Fast X\", \"Top Gun: Maverick\", \"The Meg\", \"Pacific Rim\",\n",
    "    \"Godzilla vs. Kong\", \"King Kong\", \"The Jungle Book\", \"Coco\", \"Zootopia\", \"Inside Out\"\n",
    "]\n",
    "\n",
    "# Base URL for OMDb API\n",
    "BASE_URL = \"http://www.omdbapi.com/\"\n",
    "\n",
    "# List to store movie details\n",
    "movie_data = []\n",
    "\n",
    "# Loop through each movie and fetch details\n",
    "for movie in movies:\n",
    "    params = {\"t\": movie, \"apikey\": API_KEY}\n",
    "    response = requests.get(BASE_URL, params=params)\n",
    "    \n",
    "    if response.status_code == 200:\n",
    "        data = response.json()\n",
    "        if data[\"Response\"] == \"True\":\n",
    "            movie_data.append({\n",
    "                \"Title\": data.get(\"Title\"),\n",
    "                \"Year\": data.get(\"Year\"),\n",
    "                \"Genre\": data.get(\"Genre\"),\n",
    "                \"Director\": data.get(\"Director\"),\n",
    "                \"Actors\": data.get(\"Actors\"),\n",
    "                \"IMDb Rating\": data.get(\"imdbRating\"),\n",
    "                \"Runtime\": data.get(\"Runtime\"),\n",
    "                \"Box Office\": data.get(\"BoxOffice\"),\n",
    "                \"Awards\": data.get(\"Awards\")\n",
    "            })\n",
    "        else:\n",
    "            print(f\"Movie '{movie}' not found!\")\n",
    "    else:\n",
    "        print(f\"Error fetching data for {movie}\")\n",
    "\n",
    "    # Respect API rate limits\n",
    "    time.sleep(1)  # Add a 1-second delay to avoid being blocked\n",
    "\n",
    "# Convert list to DataFrame\n",
    "df = pd.DataFrame(movie_data)\n",
    "\n",
    "# Save DataFrame to CSV\n",
    "df.to_csv(\"Anita's_movies.csv\", index=False)\n",
    "\n",
    "print(\"Movie data for 100 movies successfully saved to CSV! 🎬\")\n"
   ]
  }
 ],
 "metadata": {
  "kernelspec": {
   "display_name": "Python 3",
   "language": "python",
   "name": "python3"
  },
  "language_info": {
   "codemirror_mode": {
    "name": "ipython",
    "version": 3
   },
   "file_extension": ".py",
   "mimetype": "text/x-python",
   "name": "python",
   "nbconvert_exporter": "python",
   "pygments_lexer": "ipython3",
   "version": "3.12.2"
  }
 },
 "nbformat": 4,
 "nbformat_minor": 2
}
